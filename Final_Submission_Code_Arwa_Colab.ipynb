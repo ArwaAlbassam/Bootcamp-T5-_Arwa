{
  "nbformat": 4,
  "nbformat_minor": 0,
  "metadata": {
    "colab": {
      "name": "Untitled10.ipynb",
      "provenance": [],
      "collapsed_sections": [],
      "authorship_tag": "ABX9TyPvGx5TGxZSJ2+fHP6nlj80",
      "include_colab_link": true
    },
    "kernelspec": {
      "name": "python3",
      "display_name": "Python 3"
    },
    "language_info": {
      "name": "python"
    }
  },
  "cells": [
    {
      "cell_type": "markdown",
      "metadata": {
        "id": "view-in-github",
        "colab_type": "text"
      },
      "source": [
        "<a href=\"https://colab.research.google.com/github/ArwaAlbassam/Bootcamp-T5-_Arwa/blob/main/Final_Submission_Code_Arwa_Colab.ipynb\" target=\"_parent\"><img src=\"https://colab.research.google.com/assets/colab-badge.svg\" alt=\"Open In Colab\"/></a>"
      ]
    },
    {
      "cell_type": "markdown",
      "metadata": {
        "id": "rFl4g7ZJRZ2n"
      },
      "source": [
        "# **Find the most three stations crowded to set up the centers of the covid-19 vaccine using the MTA Turnstile DataSet**"
      ]
    },
    {
      "cell_type": "markdown",
      "metadata": {
        "id": "u0mIAv3Pyp_g"
      },
      "source": [
        "# **Import packages**"
      ]
    },
    {
      "cell_type": "code",
      "metadata": {
        "id": "o2vWjFKFzDNV"
      },
      "source": [
        "import pandas as pd\n",
        "import numpy as np\n",
        "import datetime\n",
        "import matplotlib.pyplot as plt\n",
        "%matplotlib inline\n",
        "import seaborn as sns\n",
        "from google.colab import files\n",
        "from scipy import stats"
      ],
      "execution_count": 1,
      "outputs": []
    },
    {
      "cell_type": "markdown",
      "metadata": {
        "id": "BACI2ajdzIvQ"
      },
      "source": [
        "# **Load dataset**"
      ]
    },
    {
      "cell_type": "code",
      "metadata": {
        "id": "OSs5XlctzPjV"
      },
      "source": [
        "def get_data(week_nums):\n",
        "    url = \"http://web.mta.info/developers/data/nyct/turnstile/turnstile_{}.txt\"\n",
        "    dfs = []\n",
        "    for week_num in week_nums:\n",
        "        file_url = url.format(week_num)\n",
        "        dfs.append(pd.read_csv(file_url))\n",
        "    return pd.concat(dfs)\n",
        "        \n",
        "week_nums = [210605, 210612, 210619, 210626, 210703, 210710, 210717, 210724, 210731, 210807, 210814, 210821, 210828, 210904]\n",
        "turnstiles_df = get_data(week_nums)"
      ],
      "execution_count": 2,
      "outputs": []
    },
    {
      "cell_type": "code",
      "metadata": {
        "colab": {
          "base_uri": "https://localhost:8080/",
          "height": 358
        },
        "id": "PQWMVhcbzk85",
        "outputId": "63a7e929-abb8-42ee-caca-cbe7e0aabf1f"
      },
      "source": [
        "#To show the top 10 rows in dataset\n",
        "turnstiles_df.head(10)"
      ],
      "execution_count": 3,
      "outputs": [
        {
          "output_type": "execute_result",
          "data": {
            "text/html": [
              "<div>\n",
              "<style scoped>\n",
              "    .dataframe tbody tr th:only-of-type {\n",
              "        vertical-align: middle;\n",
              "    }\n",
              "\n",
              "    .dataframe tbody tr th {\n",
              "        vertical-align: top;\n",
              "    }\n",
              "\n",
              "    .dataframe thead th {\n",
              "        text-align: right;\n",
              "    }\n",
              "</style>\n",
              "<table border=\"1\" class=\"dataframe\">\n",
              "  <thead>\n",
              "    <tr style=\"text-align: right;\">\n",
              "      <th></th>\n",
              "      <th>C/A</th>\n",
              "      <th>UNIT</th>\n",
              "      <th>SCP</th>\n",
              "      <th>STATION</th>\n",
              "      <th>LINENAME</th>\n",
              "      <th>DIVISION</th>\n",
              "      <th>DATE</th>\n",
              "      <th>TIME</th>\n",
              "      <th>DESC</th>\n",
              "      <th>ENTRIES</th>\n",
              "      <th>EXITS</th>\n",
              "    </tr>\n",
              "  </thead>\n",
              "  <tbody>\n",
              "    <tr>\n",
              "      <th>0</th>\n",
              "      <td>A002</td>\n",
              "      <td>R051</td>\n",
              "      <td>02-00-00</td>\n",
              "      <td>59 ST</td>\n",
              "      <td>NQR456W</td>\n",
              "      <td>BMT</td>\n",
              "      <td>05/29/2021</td>\n",
              "      <td>00:00:00</td>\n",
              "      <td>REGULAR</td>\n",
              "      <td>7578734</td>\n",
              "      <td>2590325</td>\n",
              "    </tr>\n",
              "    <tr>\n",
              "      <th>1</th>\n",
              "      <td>A002</td>\n",
              "      <td>R051</td>\n",
              "      <td>02-00-00</td>\n",
              "      <td>59 ST</td>\n",
              "      <td>NQR456W</td>\n",
              "      <td>BMT</td>\n",
              "      <td>05/29/2021</td>\n",
              "      <td>04:00:00</td>\n",
              "      <td>REGULAR</td>\n",
              "      <td>7578740</td>\n",
              "      <td>2590327</td>\n",
              "    </tr>\n",
              "    <tr>\n",
              "      <th>2</th>\n",
              "      <td>A002</td>\n",
              "      <td>R051</td>\n",
              "      <td>02-00-00</td>\n",
              "      <td>59 ST</td>\n",
              "      <td>NQR456W</td>\n",
              "      <td>BMT</td>\n",
              "      <td>05/29/2021</td>\n",
              "      <td>08:00:00</td>\n",
              "      <td>REGULAR</td>\n",
              "      <td>7578749</td>\n",
              "      <td>2590340</td>\n",
              "    </tr>\n",
              "    <tr>\n",
              "      <th>3</th>\n",
              "      <td>A002</td>\n",
              "      <td>R051</td>\n",
              "      <td>02-00-00</td>\n",
              "      <td>59 ST</td>\n",
              "      <td>NQR456W</td>\n",
              "      <td>BMT</td>\n",
              "      <td>05/29/2021</td>\n",
              "      <td>12:00:00</td>\n",
              "      <td>REGULAR</td>\n",
              "      <td>7578789</td>\n",
              "      <td>2590386</td>\n",
              "    </tr>\n",
              "    <tr>\n",
              "      <th>4</th>\n",
              "      <td>A002</td>\n",
              "      <td>R051</td>\n",
              "      <td>02-00-00</td>\n",
              "      <td>59 ST</td>\n",
              "      <td>NQR456W</td>\n",
              "      <td>BMT</td>\n",
              "      <td>05/29/2021</td>\n",
              "      <td>16:00:00</td>\n",
              "      <td>REGULAR</td>\n",
              "      <td>7578897</td>\n",
              "      <td>2590418</td>\n",
              "    </tr>\n",
              "    <tr>\n",
              "      <th>5</th>\n",
              "      <td>A002</td>\n",
              "      <td>R051</td>\n",
              "      <td>02-00-00</td>\n",
              "      <td>59 ST</td>\n",
              "      <td>NQR456W</td>\n",
              "      <td>BMT</td>\n",
              "      <td>05/29/2021</td>\n",
              "      <td>20:00:00</td>\n",
              "      <td>REGULAR</td>\n",
              "      <td>7579021</td>\n",
              "      <td>2590439</td>\n",
              "    </tr>\n",
              "    <tr>\n",
              "      <th>6</th>\n",
              "      <td>A002</td>\n",
              "      <td>R051</td>\n",
              "      <td>02-00-00</td>\n",
              "      <td>59 ST</td>\n",
              "      <td>NQR456W</td>\n",
              "      <td>BMT</td>\n",
              "      <td>05/30/2021</td>\n",
              "      <td>00:00:00</td>\n",
              "      <td>REGULAR</td>\n",
              "      <td>7579078</td>\n",
              "      <td>2590451</td>\n",
              "    </tr>\n",
              "    <tr>\n",
              "      <th>7</th>\n",
              "      <td>A002</td>\n",
              "      <td>R051</td>\n",
              "      <td>02-00-00</td>\n",
              "      <td>59 ST</td>\n",
              "      <td>NQR456W</td>\n",
              "      <td>BMT</td>\n",
              "      <td>05/30/2021</td>\n",
              "      <td>04:00:00</td>\n",
              "      <td>REGULAR</td>\n",
              "      <td>7579084</td>\n",
              "      <td>2590452</td>\n",
              "    </tr>\n",
              "    <tr>\n",
              "      <th>8</th>\n",
              "      <td>A002</td>\n",
              "      <td>R051</td>\n",
              "      <td>02-00-00</td>\n",
              "      <td>59 ST</td>\n",
              "      <td>NQR456W</td>\n",
              "      <td>BMT</td>\n",
              "      <td>05/30/2021</td>\n",
              "      <td>08:00:00</td>\n",
              "      <td>REGULAR</td>\n",
              "      <td>7579085</td>\n",
              "      <td>2590454</td>\n",
              "    </tr>\n",
              "    <tr>\n",
              "      <th>9</th>\n",
              "      <td>A002</td>\n",
              "      <td>R051</td>\n",
              "      <td>02-00-00</td>\n",
              "      <td>59 ST</td>\n",
              "      <td>NQR456W</td>\n",
              "      <td>BMT</td>\n",
              "      <td>05/30/2021</td>\n",
              "      <td>12:00:00</td>\n",
              "      <td>REGULAR</td>\n",
              "      <td>7579093</td>\n",
              "      <td>2590493</td>\n",
              "    </tr>\n",
              "  </tbody>\n",
              "</table>\n",
              "</div>"
            ],
            "text/plain": [
              "    C/A  ... EXITS                                                               \n",
              "0  A002  ...                                            2590325                  \n",
              "1  A002  ...                                            2590327                  \n",
              "2  A002  ...                                            2590340                  \n",
              "3  A002  ...                                            2590386                  \n",
              "4  A002  ...                                            2590418                  \n",
              "5  A002  ...                                            2590439                  \n",
              "6  A002  ...                                            2590451                  \n",
              "7  A002  ...                                            2590452                  \n",
              "8  A002  ...                                            2590454                  \n",
              "9  A002  ...                                            2590493                  \n",
              "\n",
              "[10 rows x 11 columns]"
            ]
          },
          "metadata": {},
          "execution_count": 3
        }
      ]
    },
    {
      "cell_type": "code",
      "metadata": {
        "colab": {
          "base_uri": "https://localhost:8080/"
        },
        "id": "60PZd6clznvi",
        "outputId": "5d237f09-956e-40b1-a5a0-413478269d78"
      },
      "source": [
        "#To show some information about dataset such as: Column name, datatype, No.of Rows.\n",
        "turnstiles_df.info()"
      ],
      "execution_count": 4,
      "outputs": [
        {
          "output_type": "stream",
          "name": "stdout",
          "text": [
            "<class 'pandas.core.frame.DataFrame'>\n",
            "Int64Index: 2932345 entries, 0 to 209734\n",
            "Data columns (total 11 columns):\n",
            " #   Column                                                                Dtype \n",
            "---  ------                                                                ----- \n",
            " 0   C/A                                                                   object\n",
            " 1   UNIT                                                                  object\n",
            " 2   SCP                                                                   object\n",
            " 3   STATION                                                               object\n",
            " 4   LINENAME                                                              object\n",
            " 5   DIVISION                                                              object\n",
            " 6   DATE                                                                  object\n",
            " 7   TIME                                                                  object\n",
            " 8   DESC                                                                  object\n",
            " 9   ENTRIES                                                               int64 \n",
            " 10  EXITS                                                                 int64 \n",
            "dtypes: int64(2), object(9)\n",
            "memory usage: 268.5+ MB\n"
          ]
        }
      ]
    },
    {
      "cell_type": "code",
      "metadata": {
        "colab": {
          "base_uri": "https://localhost:8080/",
          "height": 296
        },
        "id": "-U1vikYNzqq_",
        "outputId": "df274c60-b5d6-40ee-8392-91e74c62e64f"
      },
      "source": [
        "turnstiles_df.describe()"
      ],
      "execution_count": 5,
      "outputs": [
        {
          "output_type": "execute_result",
          "data": {
            "text/html": [
              "<div>\n",
              "<style scoped>\n",
              "    .dataframe tbody tr th:only-of-type {\n",
              "        vertical-align: middle;\n",
              "    }\n",
              "\n",
              "    .dataframe tbody tr th {\n",
              "        vertical-align: top;\n",
              "    }\n",
              "\n",
              "    .dataframe thead th {\n",
              "        text-align: right;\n",
              "    }\n",
              "</style>\n",
              "<table border=\"1\" class=\"dataframe\">\n",
              "  <thead>\n",
              "    <tr style=\"text-align: right;\">\n",
              "      <th></th>\n",
              "      <th>ENTRIES</th>\n",
              "      <th>EXITS</th>\n",
              "    </tr>\n",
              "  </thead>\n",
              "  <tbody>\n",
              "    <tr>\n",
              "      <th>count</th>\n",
              "      <td>2.932345e+06</td>\n",
              "      <td>2.932345e+06</td>\n",
              "    </tr>\n",
              "    <tr>\n",
              "      <th>mean</th>\n",
              "      <td>4.163677e+07</td>\n",
              "      <td>3.327455e+07</td>\n",
              "    </tr>\n",
              "    <tr>\n",
              "      <th>std</th>\n",
              "      <td>2.183826e+08</td>\n",
              "      <td>1.918740e+08</td>\n",
              "    </tr>\n",
              "    <tr>\n",
              "      <th>min</th>\n",
              "      <td>0.000000e+00</td>\n",
              "      <td>0.000000e+00</td>\n",
              "    </tr>\n",
              "    <tr>\n",
              "      <th>25%</th>\n",
              "      <td>2.182180e+05</td>\n",
              "      <td>9.998500e+04</td>\n",
              "    </tr>\n",
              "    <tr>\n",
              "      <th>50%</th>\n",
              "      <td>1.404623e+06</td>\n",
              "      <td>8.551120e+05</td>\n",
              "    </tr>\n",
              "    <tr>\n",
              "      <th>75%</th>\n",
              "      <td>6.020096e+06</td>\n",
              "      <td>3.970328e+06</td>\n",
              "    </tr>\n",
              "    <tr>\n",
              "      <th>max</th>\n",
              "      <td>2.147417e+09</td>\n",
              "      <td>2.133797e+09</td>\n",
              "    </tr>\n",
              "  </tbody>\n",
              "</table>\n",
              "</div>"
            ],
            "text/plain": [
              "            ENTRIES  EXITS                                                               \n",
              "count  2.932345e+06                                       2.932345e+06                   \n",
              "mean   4.163677e+07                                       3.327455e+07                   \n",
              "std    2.183826e+08                                       1.918740e+08                   \n",
              "min    0.000000e+00                                       0.000000e+00                   \n",
              "25%    2.182180e+05                                       9.998500e+04                   \n",
              "50%    1.404623e+06                                       8.551120e+05                   \n",
              "75%    6.020096e+06                                       3.970328e+06                   \n",
              "max    2.147417e+09                                       2.133797e+09                   "
            ]
          },
          "metadata": {},
          "execution_count": 5
        }
      ]
    },
    {
      "cell_type": "markdown",
      "metadata": {
        "id": "WnUqoRiu3xhV"
      },
      "source": [
        "# **Pre-Processing**"
      ]
    },
    {
      "cell_type": "markdown",
      "metadata": {
        "id": "Lbn7QlM4UpoB"
      },
      "source": [
        "Removing whitespace From column name"
      ]
    },
    {
      "cell_type": "code",
      "metadata": {
        "id": "uYG4_9ii360G"
      },
      "source": [
        "turnstiles_df.columns = [column.strip() for column in turnstiles_df.columns]"
      ],
      "execution_count": 6,
      "outputs": []
    },
    {
      "cell_type": "markdown",
      "metadata": {
        "id": "raggAVLMTqK0"
      },
      "source": [
        "Missing values:"
      ]
    },
    {
      "cell_type": "code",
      "metadata": {
        "colab": {
          "base_uri": "https://localhost:8080/",
          "height": 418
        },
        "id": "XOVgMdKZztvk",
        "outputId": "67cee241-7f11-4dbb-b49d-3ad1dcfb37d2"
      },
      "source": [
        "turnstiles_df.isna()"
      ],
      "execution_count": 7,
      "outputs": [
        {
          "output_type": "execute_result",
          "data": {
            "text/html": [
              "<div>\n",
              "<style scoped>\n",
              "    .dataframe tbody tr th:only-of-type {\n",
              "        vertical-align: middle;\n",
              "    }\n",
              "\n",
              "    .dataframe tbody tr th {\n",
              "        vertical-align: top;\n",
              "    }\n",
              "\n",
              "    .dataframe thead th {\n",
              "        text-align: right;\n",
              "    }\n",
              "</style>\n",
              "<table border=\"1\" class=\"dataframe\">\n",
              "  <thead>\n",
              "    <tr style=\"text-align: right;\">\n",
              "      <th></th>\n",
              "      <th>C/A</th>\n",
              "      <th>UNIT</th>\n",
              "      <th>SCP</th>\n",
              "      <th>STATION</th>\n",
              "      <th>LINENAME</th>\n",
              "      <th>DIVISION</th>\n",
              "      <th>DATE</th>\n",
              "      <th>TIME</th>\n",
              "      <th>DESC</th>\n",
              "      <th>ENTRIES</th>\n",
              "      <th>EXITS</th>\n",
              "    </tr>\n",
              "  </thead>\n",
              "  <tbody>\n",
              "    <tr>\n",
              "      <th>0</th>\n",
              "      <td>False</td>\n",
              "      <td>False</td>\n",
              "      <td>False</td>\n",
              "      <td>False</td>\n",
              "      <td>False</td>\n",
              "      <td>False</td>\n",
              "      <td>False</td>\n",
              "      <td>False</td>\n",
              "      <td>False</td>\n",
              "      <td>False</td>\n",
              "      <td>False</td>\n",
              "    </tr>\n",
              "    <tr>\n",
              "      <th>1</th>\n",
              "      <td>False</td>\n",
              "      <td>False</td>\n",
              "      <td>False</td>\n",
              "      <td>False</td>\n",
              "      <td>False</td>\n",
              "      <td>False</td>\n",
              "      <td>False</td>\n",
              "      <td>False</td>\n",
              "      <td>False</td>\n",
              "      <td>False</td>\n",
              "      <td>False</td>\n",
              "    </tr>\n",
              "    <tr>\n",
              "      <th>2</th>\n",
              "      <td>False</td>\n",
              "      <td>False</td>\n",
              "      <td>False</td>\n",
              "      <td>False</td>\n",
              "      <td>False</td>\n",
              "      <td>False</td>\n",
              "      <td>False</td>\n",
              "      <td>False</td>\n",
              "      <td>False</td>\n",
              "      <td>False</td>\n",
              "      <td>False</td>\n",
              "    </tr>\n",
              "    <tr>\n",
              "      <th>3</th>\n",
              "      <td>False</td>\n",
              "      <td>False</td>\n",
              "      <td>False</td>\n",
              "      <td>False</td>\n",
              "      <td>False</td>\n",
              "      <td>False</td>\n",
              "      <td>False</td>\n",
              "      <td>False</td>\n",
              "      <td>False</td>\n",
              "      <td>False</td>\n",
              "      <td>False</td>\n",
              "    </tr>\n",
              "    <tr>\n",
              "      <th>4</th>\n",
              "      <td>False</td>\n",
              "      <td>False</td>\n",
              "      <td>False</td>\n",
              "      <td>False</td>\n",
              "      <td>False</td>\n",
              "      <td>False</td>\n",
              "      <td>False</td>\n",
              "      <td>False</td>\n",
              "      <td>False</td>\n",
              "      <td>False</td>\n",
              "      <td>False</td>\n",
              "    </tr>\n",
              "    <tr>\n",
              "      <th>...</th>\n",
              "      <td>...</td>\n",
              "      <td>...</td>\n",
              "      <td>...</td>\n",
              "      <td>...</td>\n",
              "      <td>...</td>\n",
              "      <td>...</td>\n",
              "      <td>...</td>\n",
              "      <td>...</td>\n",
              "      <td>...</td>\n",
              "      <td>...</td>\n",
              "      <td>...</td>\n",
              "    </tr>\n",
              "    <tr>\n",
              "      <th>209730</th>\n",
              "      <td>False</td>\n",
              "      <td>False</td>\n",
              "      <td>False</td>\n",
              "      <td>False</td>\n",
              "      <td>False</td>\n",
              "      <td>False</td>\n",
              "      <td>False</td>\n",
              "      <td>False</td>\n",
              "      <td>False</td>\n",
              "      <td>False</td>\n",
              "      <td>False</td>\n",
              "    </tr>\n",
              "    <tr>\n",
              "      <th>209731</th>\n",
              "      <td>False</td>\n",
              "      <td>False</td>\n",
              "      <td>False</td>\n",
              "      <td>False</td>\n",
              "      <td>False</td>\n",
              "      <td>False</td>\n",
              "      <td>False</td>\n",
              "      <td>False</td>\n",
              "      <td>False</td>\n",
              "      <td>False</td>\n",
              "      <td>False</td>\n",
              "    </tr>\n",
              "    <tr>\n",
              "      <th>209732</th>\n",
              "      <td>False</td>\n",
              "      <td>False</td>\n",
              "      <td>False</td>\n",
              "      <td>False</td>\n",
              "      <td>False</td>\n",
              "      <td>False</td>\n",
              "      <td>False</td>\n",
              "      <td>False</td>\n",
              "      <td>False</td>\n",
              "      <td>False</td>\n",
              "      <td>False</td>\n",
              "    </tr>\n",
              "    <tr>\n",
              "      <th>209733</th>\n",
              "      <td>False</td>\n",
              "      <td>False</td>\n",
              "      <td>False</td>\n",
              "      <td>False</td>\n",
              "      <td>False</td>\n",
              "      <td>False</td>\n",
              "      <td>False</td>\n",
              "      <td>False</td>\n",
              "      <td>False</td>\n",
              "      <td>False</td>\n",
              "      <td>False</td>\n",
              "    </tr>\n",
              "    <tr>\n",
              "      <th>209734</th>\n",
              "      <td>False</td>\n",
              "      <td>False</td>\n",
              "      <td>False</td>\n",
              "      <td>False</td>\n",
              "      <td>False</td>\n",
              "      <td>False</td>\n",
              "      <td>False</td>\n",
              "      <td>False</td>\n",
              "      <td>False</td>\n",
              "      <td>False</td>\n",
              "      <td>False</td>\n",
              "    </tr>\n",
              "  </tbody>\n",
              "</table>\n",
              "<p>2932345 rows × 11 columns</p>\n",
              "</div>"
            ],
            "text/plain": [
              "          C/A   UNIT    SCP  STATION  ...   TIME   DESC  ENTRIES  EXITS\n",
              "0       False  False  False    False  ...  False  False    False  False\n",
              "1       False  False  False    False  ...  False  False    False  False\n",
              "2       False  False  False    False  ...  False  False    False  False\n",
              "3       False  False  False    False  ...  False  False    False  False\n",
              "4       False  False  False    False  ...  False  False    False  False\n",
              "...       ...    ...    ...      ...  ...    ...    ...      ...    ...\n",
              "209730  False  False  False    False  ...  False  False    False  False\n",
              "209731  False  False  False    False  ...  False  False    False  False\n",
              "209732  False  False  False    False  ...  False  False    False  False\n",
              "209733  False  False  False    False  ...  False  False    False  False\n",
              "209734  False  False  False    False  ...  False  False    False  False\n",
              "\n",
              "[2932345 rows x 11 columns]"
            ]
          },
          "metadata": {},
          "execution_count": 7
        }
      ]
    },
    {
      "cell_type": "code",
      "metadata": {
        "colab": {
          "base_uri": "https://localhost:8080/"
        },
        "id": "ZJgyLRoATf61",
        "outputId": "4380c82d-e3c4-4794-ac0d-0371f7c2e43a"
      },
      "source": [
        "print(\"Check if there are any missing values in Dataset \")\n",
        "print(turnstiles_df.isnull().sum())"
      ],
      "execution_count": 8,
      "outputs": [
        {
          "output_type": "stream",
          "name": "stdout",
          "text": [
            "Check if there are any missing values in Dataset \n",
            "C/A         0\n",
            "UNIT        0\n",
            "SCP         0\n",
            "STATION     0\n",
            "LINENAME    0\n",
            "DIVISION    0\n",
            "DATE        0\n",
            "TIME        0\n",
            "DESC        0\n",
            "ENTRIES     0\n",
            "EXITS       0\n",
            "dtype: int64\n"
          ]
        }
      ]
    },
    {
      "cell_type": "markdown",
      "metadata": {
        "id": "1k7tVAeyTtG5"
      },
      "source": [
        "Duplicate:"
      ]
    },
    {
      "cell_type": "code",
      "metadata": {
        "colab": {
          "base_uri": "https://localhost:8080/"
        },
        "id": "zZjsscs9TwxL",
        "outputId": "723fc938-18b0-4306-82fb-28cd766233e8"
      },
      "source": [
        "print(\"Check if there are any duplicated values in dataset: \\n\")\n",
        "dubl=turnstiles_df.duplicated()\n",
        "print('number of duplicate = %d\\n'%(dubl.sum()))"
      ],
      "execution_count": 9,
      "outputs": [
        {
          "output_type": "stream",
          "name": "stdout",
          "text": [
            "Check if there are any duplicated values in dataset: \n",
            "\n",
            "number of duplicate = 0\n",
            "\n"
          ]
        }
      ]
    },
    {
      "cell_type": "markdown",
      "metadata": {
        "id": "0P_lbYtSVAKg"
      },
      "source": [
        "Create DATETIME column by combine day and time columns"
      ]
    },
    {
      "cell_type": "code",
      "metadata": {
        "colab": {
          "base_uri": "https://localhost:8080/",
          "height": 418
        },
        "id": "9mdDgLBfzwXM",
        "outputId": "02d86928-1ce6-4f96-8f5f-a22ed520c970"
      },
      "source": [
        "turnstiles_df['DATETIME'] =pd.to_datetime(turnstiles_df.DATE +' '+ turnstiles_df.TIME, \n",
        "                    format='%m/%d/%Y %H:%M:%S')\n",
        "\n",
        "turnstiles_df"
      ],
      "execution_count": 10,
      "outputs": [
        {
          "output_type": "execute_result",
          "data": {
            "text/html": [
              "<div>\n",
              "<style scoped>\n",
              "    .dataframe tbody tr th:only-of-type {\n",
              "        vertical-align: middle;\n",
              "    }\n",
              "\n",
              "    .dataframe tbody tr th {\n",
              "        vertical-align: top;\n",
              "    }\n",
              "\n",
              "    .dataframe thead th {\n",
              "        text-align: right;\n",
              "    }\n",
              "</style>\n",
              "<table border=\"1\" class=\"dataframe\">\n",
              "  <thead>\n",
              "    <tr style=\"text-align: right;\">\n",
              "      <th></th>\n",
              "      <th>C/A</th>\n",
              "      <th>UNIT</th>\n",
              "      <th>SCP</th>\n",
              "      <th>STATION</th>\n",
              "      <th>LINENAME</th>\n",
              "      <th>DIVISION</th>\n",
              "      <th>DATE</th>\n",
              "      <th>TIME</th>\n",
              "      <th>DESC</th>\n",
              "      <th>ENTRIES</th>\n",
              "      <th>EXITS</th>\n",
              "      <th>DATETIME</th>\n",
              "    </tr>\n",
              "  </thead>\n",
              "  <tbody>\n",
              "    <tr>\n",
              "      <th>0</th>\n",
              "      <td>A002</td>\n",
              "      <td>R051</td>\n",
              "      <td>02-00-00</td>\n",
              "      <td>59 ST</td>\n",
              "      <td>NQR456W</td>\n",
              "      <td>BMT</td>\n",
              "      <td>05/29/2021</td>\n",
              "      <td>00:00:00</td>\n",
              "      <td>REGULAR</td>\n",
              "      <td>7578734</td>\n",
              "      <td>2590325</td>\n",
              "      <td>2021-05-29 00:00:00</td>\n",
              "    </tr>\n",
              "    <tr>\n",
              "      <th>1</th>\n",
              "      <td>A002</td>\n",
              "      <td>R051</td>\n",
              "      <td>02-00-00</td>\n",
              "      <td>59 ST</td>\n",
              "      <td>NQR456W</td>\n",
              "      <td>BMT</td>\n",
              "      <td>05/29/2021</td>\n",
              "      <td>04:00:00</td>\n",
              "      <td>REGULAR</td>\n",
              "      <td>7578740</td>\n",
              "      <td>2590327</td>\n",
              "      <td>2021-05-29 04:00:00</td>\n",
              "    </tr>\n",
              "    <tr>\n",
              "      <th>2</th>\n",
              "      <td>A002</td>\n",
              "      <td>R051</td>\n",
              "      <td>02-00-00</td>\n",
              "      <td>59 ST</td>\n",
              "      <td>NQR456W</td>\n",
              "      <td>BMT</td>\n",
              "      <td>05/29/2021</td>\n",
              "      <td>08:00:00</td>\n",
              "      <td>REGULAR</td>\n",
              "      <td>7578749</td>\n",
              "      <td>2590340</td>\n",
              "      <td>2021-05-29 08:00:00</td>\n",
              "    </tr>\n",
              "    <tr>\n",
              "      <th>3</th>\n",
              "      <td>A002</td>\n",
              "      <td>R051</td>\n",
              "      <td>02-00-00</td>\n",
              "      <td>59 ST</td>\n",
              "      <td>NQR456W</td>\n",
              "      <td>BMT</td>\n",
              "      <td>05/29/2021</td>\n",
              "      <td>12:00:00</td>\n",
              "      <td>REGULAR</td>\n",
              "      <td>7578789</td>\n",
              "      <td>2590386</td>\n",
              "      <td>2021-05-29 12:00:00</td>\n",
              "    </tr>\n",
              "    <tr>\n",
              "      <th>4</th>\n",
              "      <td>A002</td>\n",
              "      <td>R051</td>\n",
              "      <td>02-00-00</td>\n",
              "      <td>59 ST</td>\n",
              "      <td>NQR456W</td>\n",
              "      <td>BMT</td>\n",
              "      <td>05/29/2021</td>\n",
              "      <td>16:00:00</td>\n",
              "      <td>REGULAR</td>\n",
              "      <td>7578897</td>\n",
              "      <td>2590418</td>\n",
              "      <td>2021-05-29 16:00:00</td>\n",
              "    </tr>\n",
              "    <tr>\n",
              "      <th>...</th>\n",
              "      <td>...</td>\n",
              "      <td>...</td>\n",
              "      <td>...</td>\n",
              "      <td>...</td>\n",
              "      <td>...</td>\n",
              "      <td>...</td>\n",
              "      <td>...</td>\n",
              "      <td>...</td>\n",
              "      <td>...</td>\n",
              "      <td>...</td>\n",
              "      <td>...</td>\n",
              "      <td>...</td>\n",
              "    </tr>\n",
              "    <tr>\n",
              "      <th>209730</th>\n",
              "      <td>TRAM2</td>\n",
              "      <td>R469</td>\n",
              "      <td>00-05-01</td>\n",
              "      <td>RIT-ROOSEVELT</td>\n",
              "      <td>R</td>\n",
              "      <td>RIT</td>\n",
              "      <td>09/03/2021</td>\n",
              "      <td>05:00:00</td>\n",
              "      <td>REGULAR</td>\n",
              "      <td>5554</td>\n",
              "      <td>638</td>\n",
              "      <td>2021-09-03 05:00:00</td>\n",
              "    </tr>\n",
              "    <tr>\n",
              "      <th>209731</th>\n",
              "      <td>TRAM2</td>\n",
              "      <td>R469</td>\n",
              "      <td>00-05-01</td>\n",
              "      <td>RIT-ROOSEVELT</td>\n",
              "      <td>R</td>\n",
              "      <td>RIT</td>\n",
              "      <td>09/03/2021</td>\n",
              "      <td>09:00:00</td>\n",
              "      <td>REGULAR</td>\n",
              "      <td>5554</td>\n",
              "      <td>638</td>\n",
              "      <td>2021-09-03 09:00:00</td>\n",
              "    </tr>\n",
              "    <tr>\n",
              "      <th>209732</th>\n",
              "      <td>TRAM2</td>\n",
              "      <td>R469</td>\n",
              "      <td>00-05-01</td>\n",
              "      <td>RIT-ROOSEVELT</td>\n",
              "      <td>R</td>\n",
              "      <td>RIT</td>\n",
              "      <td>09/03/2021</td>\n",
              "      <td>13:00:00</td>\n",
              "      <td>REGULAR</td>\n",
              "      <td>5554</td>\n",
              "      <td>638</td>\n",
              "      <td>2021-09-03 13:00:00</td>\n",
              "    </tr>\n",
              "    <tr>\n",
              "      <th>209733</th>\n",
              "      <td>TRAM2</td>\n",
              "      <td>R469</td>\n",
              "      <td>00-05-01</td>\n",
              "      <td>RIT-ROOSEVELT</td>\n",
              "      <td>R</td>\n",
              "      <td>RIT</td>\n",
              "      <td>09/03/2021</td>\n",
              "      <td>17:00:00</td>\n",
              "      <td>REGULAR</td>\n",
              "      <td>5554</td>\n",
              "      <td>638</td>\n",
              "      <td>2021-09-03 17:00:00</td>\n",
              "    </tr>\n",
              "    <tr>\n",
              "      <th>209734</th>\n",
              "      <td>TRAM2</td>\n",
              "      <td>R469</td>\n",
              "      <td>00-05-01</td>\n",
              "      <td>RIT-ROOSEVELT</td>\n",
              "      <td>R</td>\n",
              "      <td>RIT</td>\n",
              "      <td>09/03/2021</td>\n",
              "      <td>21:00:00</td>\n",
              "      <td>REGULAR</td>\n",
              "      <td>5554</td>\n",
              "      <td>639</td>\n",
              "      <td>2021-09-03 21:00:00</td>\n",
              "    </tr>\n",
              "  </tbody>\n",
              "</table>\n",
              "<p>2932345 rows × 12 columns</p>\n",
              "</div>"
            ],
            "text/plain": [
              "          C/A  UNIT       SCP  ...  ENTRIES    EXITS            DATETIME\n",
              "0        A002  R051  02-00-00  ...  7578734  2590325 2021-05-29 00:00:00\n",
              "1        A002  R051  02-00-00  ...  7578740  2590327 2021-05-29 04:00:00\n",
              "2        A002  R051  02-00-00  ...  7578749  2590340 2021-05-29 08:00:00\n",
              "3        A002  R051  02-00-00  ...  7578789  2590386 2021-05-29 12:00:00\n",
              "4        A002  R051  02-00-00  ...  7578897  2590418 2021-05-29 16:00:00\n",
              "...       ...   ...       ...  ...      ...      ...                 ...\n",
              "209730  TRAM2  R469  00-05-01  ...     5554      638 2021-09-03 05:00:00\n",
              "209731  TRAM2  R469  00-05-01  ...     5554      638 2021-09-03 09:00:00\n",
              "209732  TRAM2  R469  00-05-01  ...     5554      638 2021-09-03 13:00:00\n",
              "209733  TRAM2  R469  00-05-01  ...     5554      638 2021-09-03 17:00:00\n",
              "209734  TRAM2  R469  00-05-01  ...     5554      639 2021-09-03 21:00:00\n",
              "\n",
              "[2932345 rows x 12 columns]"
            ]
          },
          "metadata": {},
          "execution_count": 10
        }
      ]
    },
    {
      "cell_type": "code",
      "metadata": {
        "id": "F3xy7D4vVjbM"
      },
      "source": [
        "#turnstiles_df['ENTRIES'] = turnstiles_df.ENTRIES.astype(\"int\")\n",
        "#turnstiles_df['EXITS'] = turnstiles_df.EXITS.astype(\"int\")"
      ],
      "execution_count": 11,
      "outputs": []
    },
    {
      "cell_type": "markdown",
      "metadata": {
        "id": "quYtF1bHVwzj"
      },
      "source": [
        "Remove non-REGULAR values from DESC column"
      ]
    },
    {
      "cell_type": "code",
      "metadata": {
        "id": "KIRzkoLvV0V-"
      },
      "source": [
        "turnstiles_df = turnstiles_df.drop(turnstiles_df.loc[turnstiles_df.DESC != 'REGULAR'].index)"
      ],
      "execution_count": 12,
      "outputs": []
    },
    {
      "cell_type": "markdown",
      "metadata": {
        "id": "uYlDAVlJbanj"
      },
      "source": [
        "Check the duplicates turnstile for a given datetime"
      ]
    },
    {
      "cell_type": "code",
      "metadata": {
        "colab": {
          "base_uri": "https://localhost:8080/",
          "height": 204
        },
        "id": "c-EJE_jMax0k",
        "outputId": "4a72bf43-d844-43a9-fea4-760b4c07b132"
      },
      "source": [
        "(turnstiles_df\n",
        ".groupby(['C/A','UNIT','SCP','STATION','DATETIME'])\n",
        ".ENTRIES.count()\n",
        ".reset_index()\n",
        ".sort_values('ENTRIES', ascending=False)).head()"
      ],
      "execution_count": 13,
      "outputs": [
        {
          "output_type": "execute_result",
          "data": {
            "text/html": [
              "<div>\n",
              "<style scoped>\n",
              "    .dataframe tbody tr th:only-of-type {\n",
              "        vertical-align: middle;\n",
              "    }\n",
              "\n",
              "    .dataframe tbody tr th {\n",
              "        vertical-align: top;\n",
              "    }\n",
              "\n",
              "    .dataframe thead th {\n",
              "        text-align: right;\n",
              "    }\n",
              "</style>\n",
              "<table border=\"1\" class=\"dataframe\">\n",
              "  <thead>\n",
              "    <tr style=\"text-align: right;\">\n",
              "      <th></th>\n",
              "      <th>C/A</th>\n",
              "      <th>UNIT</th>\n",
              "      <th>SCP</th>\n",
              "      <th>STATION</th>\n",
              "      <th>DATETIME</th>\n",
              "      <th>ENTRIES</th>\n",
              "    </tr>\n",
              "  </thead>\n",
              "  <tbody>\n",
              "    <tr>\n",
              "      <th>0</th>\n",
              "      <td>A002</td>\n",
              "      <td>R051</td>\n",
              "      <td>02-00-00</td>\n",
              "      <td>59 ST</td>\n",
              "      <td>2021-05-29 00:00:00</td>\n",
              "      <td>1</td>\n",
              "    </tr>\n",
              "    <tr>\n",
              "      <th>1832762</th>\n",
              "      <td>R134</td>\n",
              "      <td>R272</td>\n",
              "      <td>01-00-03</td>\n",
              "      <td>28 ST</td>\n",
              "      <td>2021-06-04 21:00:00</td>\n",
              "      <td>1</td>\n",
              "    </tr>\n",
              "    <tr>\n",
              "      <th>1832764</th>\n",
              "      <td>R134</td>\n",
              "      <td>R272</td>\n",
              "      <td>01-00-03</td>\n",
              "      <td>28 ST</td>\n",
              "      <td>2021-06-05 13:00:00</td>\n",
              "      <td>1</td>\n",
              "    </tr>\n",
              "    <tr>\n",
              "      <th>1832765</th>\n",
              "      <td>R134</td>\n",
              "      <td>R272</td>\n",
              "      <td>01-00-03</td>\n",
              "      <td>28 ST</td>\n",
              "      <td>2021-06-05 17:00:00</td>\n",
              "      <td>1</td>\n",
              "    </tr>\n",
              "    <tr>\n",
              "      <th>1832766</th>\n",
              "      <td>R134</td>\n",
              "      <td>R272</td>\n",
              "      <td>01-00-03</td>\n",
              "      <td>28 ST</td>\n",
              "      <td>2021-06-05 21:00:00</td>\n",
              "      <td>1</td>\n",
              "    </tr>\n",
              "  </tbody>\n",
              "</table>\n",
              "</div>"
            ],
            "text/plain": [
              "          C/A  UNIT       SCP STATION            DATETIME  ENTRIES\n",
              "0        A002  R051  02-00-00   59 ST 2021-05-29 00:00:00        1\n",
              "1832762  R134  R272  01-00-03   28 ST 2021-06-04 21:00:00        1\n",
              "1832764  R134  R272  01-00-03   28 ST 2021-06-05 13:00:00        1\n",
              "1832765  R134  R272  01-00-03   28 ST 2021-06-05 17:00:00        1\n",
              "1832766  R134  R272  01-00-03   28 ST 2021-06-05 21:00:00        1"
            ]
          },
          "metadata": {},
          "execution_count": 13
        }
      ]
    },
    {
      "cell_type": "code",
      "metadata": {
        "colab": {
          "base_uri": "https://localhost:8080/"
        },
        "id": "IFm15GHpbAzO",
        "outputId": "2efd7fb6-2e83-4abe-da8f-5d0cf07c76ba"
      },
      "source": [
        "turnstiles_df.sort_values(['C/A', 'UNIT', 'SCP', 'STATION', 'DATETIME'],\n",
        "                      inplace=True, ascending=True)"
      ],
      "execution_count": 14,
      "outputs": [
        {
          "output_type": "stream",
          "name": "stderr",
          "text": [
            "/usr/local/lib/python3.7/dist-packages/ipykernel_launcher.py:2: SettingWithCopyWarning: \n",
            "A value is trying to be set on a copy of a slice from a DataFrame\n",
            "\n",
            "See the caveats in the documentation: https://pandas.pydata.org/pandas-docs/stable/user_guide/indexing.html#returning-a-view-versus-a-copy\n",
            "  \n"
          ]
        }
      ]
    },
    {
      "cell_type": "markdown",
      "metadata": {
        "id": "Cpz0BndoYJr9"
      },
      "source": [
        "Create 3 columns:\n",
        "1-previous datetime\n",
        "2-previous entries\n",
        "3-previous exits "
      ]
    },
    {
      "cell_type": "code",
      "metadata": {
        "colab": {
          "base_uri": "https://localhost:8080/"
        },
        "id": "S1QARSlSX9SF",
        "outputId": "b4c3c07b-c60d-46b7-cc84-a5080dfa1591"
      },
      "source": [
        "#Add shifted columns to show previous entries and exits\n",
        "turnstiles_df[['PREV_DATETIME', \"PREV_ENTRIES\", \"PREV_EXITS\"]] = (turnstiles_df\n",
        "                                                .groupby(['C/A', 'UNIT', 'SCP', 'STATION'])\\\n",
        "                                                       ['DATETIME','ENTRIES','EXITS']\n",
        "                                                .apply(lambda grp: grp.shift(1)))"
      ],
      "execution_count": 15,
      "outputs": [
        {
          "output_type": "stream",
          "name": "stderr",
          "text": [
            "/usr/local/lib/python3.7/dist-packages/ipykernel_launcher.py:4: FutureWarning: Indexing with multiple keys (implicitly converted to a tuple of keys) will be deprecated, use a list instead.\n",
            "  after removing the cwd from sys.path.\n",
            "/usr/local/lib/python3.7/dist-packages/pandas/core/frame.py:3069: SettingWithCopyWarning: \n",
            "A value is trying to be set on a copy of a slice from a DataFrame.\n",
            "Try using .loc[row_indexer,col_indexer] = value instead\n",
            "\n",
            "See the caveats in the documentation: https://pandas.pydata.org/pandas-docs/stable/user_guide/indexing.html#returning-a-view-versus-a-copy\n",
            "  self[k1] = value[k2]\n"
          ]
        }
      ]
    },
    {
      "cell_type": "markdown",
      "metadata": {
        "id": "6kprqAhQb835"
      },
      "source": [
        "Check null values after create 3 cloumns "
      ]
    },
    {
      "cell_type": "code",
      "metadata": {
        "colab": {
          "base_uri": "https://localhost:8080/"
        },
        "id": "q-yMOIqybxeT",
        "outputId": "5b59818d-c108-4b58-f491-da0af19c7792"
      },
      "source": [
        "print(turnstiles_df.isnull().sum())"
      ],
      "execution_count": 16,
      "outputs": [
        {
          "output_type": "stream",
          "name": "stdout",
          "text": [
            "C/A                 0\n",
            "UNIT                0\n",
            "SCP                 0\n",
            "STATION             0\n",
            "LINENAME            0\n",
            "DIVISION            0\n",
            "DATE                0\n",
            "TIME                0\n",
            "DESC                0\n",
            "ENTRIES             0\n",
            "EXITS               0\n",
            "DATETIME            0\n",
            "PREV_DATETIME    5028\n",
            "PREV_ENTRIES     5028\n",
            "PREV_EXITS       5028\n",
            "dtype: int64\n"
          ]
        }
      ]
    },
    {
      "cell_type": "markdown",
      "metadata": {
        "id": "0V9kcgRzcMs3"
      },
      "source": [
        "Drop null values"
      ]
    },
    {
      "cell_type": "code",
      "metadata": {
        "colab": {
          "base_uri": "https://localhost:8080/"
        },
        "id": "NEqfPT75cHJ2",
        "outputId": "636e7e79-5469-44ea-9a93-21f9561ca6f3"
      },
      "source": [
        "turnstiles_df.dropna( axis=0, inplace=True)"
      ],
      "execution_count": 17,
      "outputs": [
        {
          "output_type": "stream",
          "name": "stderr",
          "text": [
            "/usr/local/lib/python3.7/dist-packages/ipykernel_launcher.py:1: SettingWithCopyWarning: \n",
            "A value is trying to be set on a copy of a slice from a DataFrame\n",
            "\n",
            "See the caveats in the documentation: https://pandas.pydata.org/pandas-docs/stable/user_guide/indexing.html#returning-a-view-versus-a-copy\n",
            "  \"\"\"Entry point for launching an IPython kernel.\n"
          ]
        }
      ]
    },
    {
      "cell_type": "markdown",
      "metadata": {
        "id": "ZmjBrrALcjit"
      },
      "source": [
        "Functions to count the daily entries"
      ]
    },
    {
      "cell_type": "code",
      "metadata": {
        "id": "2PwVOTNSdkIO"
      },
      "source": [
        "def daily_entries(row, max_count):\n",
        "    count = row[\"ENTRIES\"] - row[\"PREV_ENTRIES\"]\n",
        "    if count < 0:\n",
        "        count = -count\n",
        "    if count > max_count:\n",
        "        count = min(row[\"ENTRIES\"], row[\"PREV_ENTRIES\"])\n",
        "    if count > max_count:\n",
        "        return 0\n",
        "    return count"
      ],
      "execution_count": 18,
      "outputs": []
    },
    {
      "cell_type": "markdown",
      "metadata": {
        "id": "9bw2ryEAd_ff"
      },
      "source": [
        "Functions to count the daily exits"
      ]
    },
    {
      "cell_type": "code",
      "metadata": {
        "id": "VRxtjb_UcuT-"
      },
      "source": [
        "def daily_exits(row, max_count):\n",
        "    countx = row[\"EXITS\"] - row[\"PREV_EXITS\"]\n",
        "    if countx < 0:\n",
        "        countx = -countx\n",
        "    if countx > max_count:\n",
        "        countx = min(row[\"EXITS\"], row[\"PREV_EXITS\"])\n",
        "    if countx > max_count:\n",
        "        return 0\n",
        "    return countx"
      ],
      "execution_count": 19,
      "outputs": []
    },
    {
      "cell_type": "markdown",
      "metadata": {
        "id": "jZTWGj4UeiLW"
      },
      "source": [
        "If the count more than 1M, then the counter might have been reset!\n"
      ]
    },
    {
      "cell_type": "code",
      "metadata": {
        "colab": {
          "base_uri": "https://localhost:8080/"
        },
        "id": "TpJZJRy6fRz_",
        "outputId": "a5672513-4466-42b6-9863-e0141831c82d"
      },
      "source": [
        "turnstiles_df[\"TOTAL_ENTRIES\"] = turnstiles_df.apply(daily_entries, axis=1, max_count=100000)\n",
        "turnstiles_df[\"TOTAL_EXITS\"] = turnstiles_df.apply(daily_exits, axis=1, max_count=100000)"
      ],
      "execution_count": 20,
      "outputs": [
        {
          "output_type": "stream",
          "name": "stderr",
          "text": [
            "/usr/local/lib/python3.7/dist-packages/ipykernel_launcher.py:1: SettingWithCopyWarning: \n",
            "A value is trying to be set on a copy of a slice from a DataFrame.\n",
            "Try using .loc[row_indexer,col_indexer] = value instead\n",
            "\n",
            "See the caveats in the documentation: https://pandas.pydata.org/pandas-docs/stable/user_guide/indexing.html#returning-a-view-versus-a-copy\n",
            "  \"\"\"Entry point for launching an IPython kernel.\n",
            "/usr/local/lib/python3.7/dist-packages/ipykernel_launcher.py:2: SettingWithCopyWarning: \n",
            "A value is trying to be set on a copy of a slice from a DataFrame.\n",
            "Try using .loc[row_indexer,col_indexer] = value instead\n",
            "\n",
            "See the caveats in the documentation: https://pandas.pydata.org/pandas-docs/stable/user_guide/indexing.html#returning-a-view-versus-a-copy\n",
            "  \n"
          ]
        }
      ]
    },
    {
      "cell_type": "markdown",
      "metadata": {
        "id": "FFIAUHMbgDKb"
      },
      "source": [
        "Total of entries and exits (Traffic) after outliers are removed"
      ]
    },
    {
      "cell_type": "code",
      "metadata": {
        "id": "9ZQuXcBtf6Xg"
      },
      "source": [
        "turnstiles_df = turnstiles_df[(np.abs(stats.zscore(turnstiles_df[\"TOTAL_ENTRIES\"])) < 3)] \n",
        "turnstiles_df = turnstiles_df[(np.abs(stats.zscore(turnstiles_df[\"TOTAL_EXITS\"])) < 3)] \n",
        "turnstiles_df[\"TOTAL_TRAFFIC\"] = turnstiles_df[\"TOTAL_EXITS\"] + turnstiles_df[\"TOTAL_ENTRIES\"]"
      ],
      "execution_count": 21,
      "outputs": []
    },
    {
      "cell_type": "code",
      "metadata": {
        "colab": {
          "base_uri": "https://localhost:8080/",
          "height": 756
        },
        "id": "1J4br7GOgKIs",
        "outputId": "30abf2ec-b7c8-4c39-a2f8-734d3a1fbdf5"
      },
      "source": [
        "turnstiles_df"
      ],
      "execution_count": 22,
      "outputs": [
        {
          "output_type": "execute_result",
          "data": {
            "text/html": [
              "<div>\n",
              "<style scoped>\n",
              "    .dataframe tbody tr th:only-of-type {\n",
              "        vertical-align: middle;\n",
              "    }\n",
              "\n",
              "    .dataframe tbody tr th {\n",
              "        vertical-align: top;\n",
              "    }\n",
              "\n",
              "    .dataframe thead th {\n",
              "        text-align: right;\n",
              "    }\n",
              "</style>\n",
              "<table border=\"1\" class=\"dataframe\">\n",
              "  <thead>\n",
              "    <tr style=\"text-align: right;\">\n",
              "      <th></th>\n",
              "      <th>C/A</th>\n",
              "      <th>UNIT</th>\n",
              "      <th>SCP</th>\n",
              "      <th>STATION</th>\n",
              "      <th>LINENAME</th>\n",
              "      <th>DIVISION</th>\n",
              "      <th>DATE</th>\n",
              "      <th>TIME</th>\n",
              "      <th>DESC</th>\n",
              "      <th>ENTRIES</th>\n",
              "      <th>EXITS</th>\n",
              "      <th>DATETIME</th>\n",
              "      <th>PREV_DATETIME</th>\n",
              "      <th>PREV_ENTRIES</th>\n",
              "      <th>PREV_EXITS</th>\n",
              "      <th>TOTAL_ENTRIES</th>\n",
              "      <th>TOTAL_EXITS</th>\n",
              "      <th>TOTAL_TRAFFIC</th>\n",
              "    </tr>\n",
              "  </thead>\n",
              "  <tbody>\n",
              "    <tr>\n",
              "      <th>1</th>\n",
              "      <td>A002</td>\n",
              "      <td>R051</td>\n",
              "      <td>02-00-00</td>\n",
              "      <td>59 ST</td>\n",
              "      <td>NQR456W</td>\n",
              "      <td>BMT</td>\n",
              "      <td>05/29/2021</td>\n",
              "      <td>04:00:00</td>\n",
              "      <td>REGULAR</td>\n",
              "      <td>7578740</td>\n",
              "      <td>2590327</td>\n",
              "      <td>2021-05-29 04:00:00</td>\n",
              "      <td>2021-05-29 00:00:00</td>\n",
              "      <td>7578734.0</td>\n",
              "      <td>2590325.0</td>\n",
              "      <td>6.0</td>\n",
              "      <td>2.0</td>\n",
              "      <td>8.0</td>\n",
              "    </tr>\n",
              "    <tr>\n",
              "      <th>2</th>\n",
              "      <td>A002</td>\n",
              "      <td>R051</td>\n",
              "      <td>02-00-00</td>\n",
              "      <td>59 ST</td>\n",
              "      <td>NQR456W</td>\n",
              "      <td>BMT</td>\n",
              "      <td>05/29/2021</td>\n",
              "      <td>08:00:00</td>\n",
              "      <td>REGULAR</td>\n",
              "      <td>7578749</td>\n",
              "      <td>2590340</td>\n",
              "      <td>2021-05-29 08:00:00</td>\n",
              "      <td>2021-05-29 04:00:00</td>\n",
              "      <td>7578740.0</td>\n",
              "      <td>2590327.0</td>\n",
              "      <td>9.0</td>\n",
              "      <td>13.0</td>\n",
              "      <td>22.0</td>\n",
              "    </tr>\n",
              "    <tr>\n",
              "      <th>3</th>\n",
              "      <td>A002</td>\n",
              "      <td>R051</td>\n",
              "      <td>02-00-00</td>\n",
              "      <td>59 ST</td>\n",
              "      <td>NQR456W</td>\n",
              "      <td>BMT</td>\n",
              "      <td>05/29/2021</td>\n",
              "      <td>12:00:00</td>\n",
              "      <td>REGULAR</td>\n",
              "      <td>7578789</td>\n",
              "      <td>2590386</td>\n",
              "      <td>2021-05-29 12:00:00</td>\n",
              "      <td>2021-05-29 08:00:00</td>\n",
              "      <td>7578749.0</td>\n",
              "      <td>2590340.0</td>\n",
              "      <td>40.0</td>\n",
              "      <td>46.0</td>\n",
              "      <td>86.0</td>\n",
              "    </tr>\n",
              "    <tr>\n",
              "      <th>4</th>\n",
              "      <td>A002</td>\n",
              "      <td>R051</td>\n",
              "      <td>02-00-00</td>\n",
              "      <td>59 ST</td>\n",
              "      <td>NQR456W</td>\n",
              "      <td>BMT</td>\n",
              "      <td>05/29/2021</td>\n",
              "      <td>16:00:00</td>\n",
              "      <td>REGULAR</td>\n",
              "      <td>7578897</td>\n",
              "      <td>2590418</td>\n",
              "      <td>2021-05-29 16:00:00</td>\n",
              "      <td>2021-05-29 12:00:00</td>\n",
              "      <td>7578789.0</td>\n",
              "      <td>2590386.0</td>\n",
              "      <td>108.0</td>\n",
              "      <td>32.0</td>\n",
              "      <td>140.0</td>\n",
              "    </tr>\n",
              "    <tr>\n",
              "      <th>5</th>\n",
              "      <td>A002</td>\n",
              "      <td>R051</td>\n",
              "      <td>02-00-00</td>\n",
              "      <td>59 ST</td>\n",
              "      <td>NQR456W</td>\n",
              "      <td>BMT</td>\n",
              "      <td>05/29/2021</td>\n",
              "      <td>20:00:00</td>\n",
              "      <td>REGULAR</td>\n",
              "      <td>7579021</td>\n",
              "      <td>2590439</td>\n",
              "      <td>2021-05-29 20:00:00</td>\n",
              "      <td>2021-05-29 16:00:00</td>\n",
              "      <td>7578897.0</td>\n",
              "      <td>2590418.0</td>\n",
              "      <td>124.0</td>\n",
              "      <td>21.0</td>\n",
              "      <td>145.0</td>\n",
              "    </tr>\n",
              "    <tr>\n",
              "      <th>...</th>\n",
              "      <td>...</td>\n",
              "      <td>...</td>\n",
              "      <td>...</td>\n",
              "      <td>...</td>\n",
              "      <td>...</td>\n",
              "      <td>...</td>\n",
              "      <td>...</td>\n",
              "      <td>...</td>\n",
              "      <td>...</td>\n",
              "      <td>...</td>\n",
              "      <td>...</td>\n",
              "      <td>...</td>\n",
              "      <td>...</td>\n",
              "      <td>...</td>\n",
              "      <td>...</td>\n",
              "      <td>...</td>\n",
              "      <td>...</td>\n",
              "      <td>...</td>\n",
              "    </tr>\n",
              "    <tr>\n",
              "      <th>209730</th>\n",
              "      <td>TRAM2</td>\n",
              "      <td>R469</td>\n",
              "      <td>00-05-01</td>\n",
              "      <td>RIT-ROOSEVELT</td>\n",
              "      <td>R</td>\n",
              "      <td>RIT</td>\n",
              "      <td>09/03/2021</td>\n",
              "      <td>05:00:00</td>\n",
              "      <td>REGULAR</td>\n",
              "      <td>5554</td>\n",
              "      <td>638</td>\n",
              "      <td>2021-09-03 05:00:00</td>\n",
              "      <td>2021-09-03 01:00:00</td>\n",
              "      <td>5554.0</td>\n",
              "      <td>638.0</td>\n",
              "      <td>0.0</td>\n",
              "      <td>0.0</td>\n",
              "      <td>0.0</td>\n",
              "    </tr>\n",
              "    <tr>\n",
              "      <th>209731</th>\n",
              "      <td>TRAM2</td>\n",
              "      <td>R469</td>\n",
              "      <td>00-05-01</td>\n",
              "      <td>RIT-ROOSEVELT</td>\n",
              "      <td>R</td>\n",
              "      <td>RIT</td>\n",
              "      <td>09/03/2021</td>\n",
              "      <td>09:00:00</td>\n",
              "      <td>REGULAR</td>\n",
              "      <td>5554</td>\n",
              "      <td>638</td>\n",
              "      <td>2021-09-03 09:00:00</td>\n",
              "      <td>2021-09-03 05:00:00</td>\n",
              "      <td>5554.0</td>\n",
              "      <td>638.0</td>\n",
              "      <td>0.0</td>\n",
              "      <td>0.0</td>\n",
              "      <td>0.0</td>\n",
              "    </tr>\n",
              "    <tr>\n",
              "      <th>209732</th>\n",
              "      <td>TRAM2</td>\n",
              "      <td>R469</td>\n",
              "      <td>00-05-01</td>\n",
              "      <td>RIT-ROOSEVELT</td>\n",
              "      <td>R</td>\n",
              "      <td>RIT</td>\n",
              "      <td>09/03/2021</td>\n",
              "      <td>13:00:00</td>\n",
              "      <td>REGULAR</td>\n",
              "      <td>5554</td>\n",
              "      <td>638</td>\n",
              "      <td>2021-09-03 13:00:00</td>\n",
              "      <td>2021-09-03 09:00:00</td>\n",
              "      <td>5554.0</td>\n",
              "      <td>638.0</td>\n",
              "      <td>0.0</td>\n",
              "      <td>0.0</td>\n",
              "      <td>0.0</td>\n",
              "    </tr>\n",
              "    <tr>\n",
              "      <th>209733</th>\n",
              "      <td>TRAM2</td>\n",
              "      <td>R469</td>\n",
              "      <td>00-05-01</td>\n",
              "      <td>RIT-ROOSEVELT</td>\n",
              "      <td>R</td>\n",
              "      <td>RIT</td>\n",
              "      <td>09/03/2021</td>\n",
              "      <td>17:00:00</td>\n",
              "      <td>REGULAR</td>\n",
              "      <td>5554</td>\n",
              "      <td>638</td>\n",
              "      <td>2021-09-03 17:00:00</td>\n",
              "      <td>2021-09-03 13:00:00</td>\n",
              "      <td>5554.0</td>\n",
              "      <td>638.0</td>\n",
              "      <td>0.0</td>\n",
              "      <td>0.0</td>\n",
              "      <td>0.0</td>\n",
              "    </tr>\n",
              "    <tr>\n",
              "      <th>209734</th>\n",
              "      <td>TRAM2</td>\n",
              "      <td>R469</td>\n",
              "      <td>00-05-01</td>\n",
              "      <td>RIT-ROOSEVELT</td>\n",
              "      <td>R</td>\n",
              "      <td>RIT</td>\n",
              "      <td>09/03/2021</td>\n",
              "      <td>21:00:00</td>\n",
              "      <td>REGULAR</td>\n",
              "      <td>5554</td>\n",
              "      <td>639</td>\n",
              "      <td>2021-09-03 21:00:00</td>\n",
              "      <td>2021-09-03 17:00:00</td>\n",
              "      <td>5554.0</td>\n",
              "      <td>638.0</td>\n",
              "      <td>0.0</td>\n",
              "      <td>1.0</td>\n",
              "      <td>1.0</td>\n",
              "    </tr>\n",
              "  </tbody>\n",
              "</table>\n",
              "<p>2720087 rows × 18 columns</p>\n",
              "</div>"
            ],
            "text/plain": [
              "          C/A  UNIT       SCP  ... TOTAL_ENTRIES TOTAL_EXITS TOTAL_TRAFFIC\n",
              "1        A002  R051  02-00-00  ...           6.0         2.0           8.0\n",
              "2        A002  R051  02-00-00  ...           9.0        13.0          22.0\n",
              "3        A002  R051  02-00-00  ...          40.0        46.0          86.0\n",
              "4        A002  R051  02-00-00  ...         108.0        32.0         140.0\n",
              "5        A002  R051  02-00-00  ...         124.0        21.0         145.0\n",
              "...       ...   ...       ...  ...           ...         ...           ...\n",
              "209730  TRAM2  R469  00-05-01  ...           0.0         0.0           0.0\n",
              "209731  TRAM2  R469  00-05-01  ...           0.0         0.0           0.0\n",
              "209732  TRAM2  R469  00-05-01  ...           0.0         0.0           0.0\n",
              "209733  TRAM2  R469  00-05-01  ...           0.0         0.0           0.0\n",
              "209734  TRAM2  R469  00-05-01  ...           0.0         1.0           1.0\n",
              "\n",
              "[2720087 rows x 18 columns]"
            ]
          },
          "metadata": {},
          "execution_count": 22
        }
      ]
    },
    {
      "cell_type": "markdown",
      "metadata": {
        "id": "NGO8RBni4Tp2"
      },
      "source": [
        "TOTAL_TRAFFIC after remove the outliers"
      ]
    },
    {
      "cell_type": "code",
      "metadata": {
        "id": "8rK9LZCr4kXD"
      },
      "source": [
        "turnstiles_df = turnstiles_df[(np.abs(stats.zscore(turnstiles_df['TOTAL_TRAFFIC'])) < 3)] #remove total traffic outliers that are 3 sigmas from mean"
      ],
      "execution_count": 23,
      "outputs": []
    },
    {
      "cell_type": "markdown",
      "metadata": {
        "id": "hto6YnwKtFgU"
      },
      "source": [
        "# **Top 3 stations are more crowded**"
      ]
    },
    {
      "cell_type": "markdown",
      "metadata": {
        "id": "M6Z9aUzOuo4A"
      },
      "source": [
        "Find station_daily for each station daily and TOTAL TRAFFIC"
      ]
    },
    {
      "cell_type": "code",
      "metadata": {
        "colab": {
          "base_uri": "https://localhost:8080/",
          "height": 204
        },
        "id": "rgE6SFQHum2W",
        "outputId": "9eeb24f5-0302-400a-e490-4d742d8a294e"
      },
      "source": [
        "station_daily = turnstiles_df.groupby([\"STATION\",\"DATE\"])[['TOTAL_TRAFFIC']].sum().reset_index()\n",
        "station_daily.head()"
      ],
      "execution_count": 24,
      "outputs": [
        {
          "output_type": "execute_result",
          "data": {
            "text/html": [
              "<div>\n",
              "<style scoped>\n",
              "    .dataframe tbody tr th:only-of-type {\n",
              "        vertical-align: middle;\n",
              "    }\n",
              "\n",
              "    .dataframe tbody tr th {\n",
              "        vertical-align: top;\n",
              "    }\n",
              "\n",
              "    .dataframe thead th {\n",
              "        text-align: right;\n",
              "    }\n",
              "</style>\n",
              "<table border=\"1\" class=\"dataframe\">\n",
              "  <thead>\n",
              "    <tr style=\"text-align: right;\">\n",
              "      <th></th>\n",
              "      <th>STATION</th>\n",
              "      <th>DATE</th>\n",
              "      <th>TOTAL_TRAFFIC</th>\n",
              "    </tr>\n",
              "  </thead>\n",
              "  <tbody>\n",
              "    <tr>\n",
              "      <th>0</th>\n",
              "      <td>1 AV</td>\n",
              "      <td>05/29/2021</td>\n",
              "      <td>10973.0</td>\n",
              "    </tr>\n",
              "    <tr>\n",
              "      <th>1</th>\n",
              "      <td>1 AV</td>\n",
              "      <td>05/30/2021</td>\n",
              "      <td>13397.0</td>\n",
              "    </tr>\n",
              "    <tr>\n",
              "      <th>2</th>\n",
              "      <td>1 AV</td>\n",
              "      <td>05/31/2021</td>\n",
              "      <td>12571.0</td>\n",
              "    </tr>\n",
              "    <tr>\n",
              "      <th>3</th>\n",
              "      <td>1 AV</td>\n",
              "      <td>06/01/2021</td>\n",
              "      <td>15752.0</td>\n",
              "    </tr>\n",
              "    <tr>\n",
              "      <th>4</th>\n",
              "      <td>1 AV</td>\n",
              "      <td>06/02/2021</td>\n",
              "      <td>16907.0</td>\n",
              "    </tr>\n",
              "  </tbody>\n",
              "</table>\n",
              "</div>"
            ],
            "text/plain": [
              "  STATION        DATE  TOTAL_TRAFFIC\n",
              "0    1 AV  05/29/2021        10973.0\n",
              "1    1 AV  05/30/2021        13397.0\n",
              "2    1 AV  05/31/2021        12571.0\n",
              "3    1 AV  06/01/2021        15752.0\n",
              "4    1 AV  06/02/2021        16907.0"
            ]
          },
          "metadata": {},
          "execution_count": 24
        }
      ]
    },
    {
      "cell_type": "markdown",
      "metadata": {
        "id": "H3t9oCCWu_th"
      },
      "source": [
        "Find the sum TOTAL TRAFFIC for each station"
      ]
    },
    {
      "cell_type": "code",
      "metadata": {
        "colab": {
          "base_uri": "https://localhost:8080/",
          "height": 141
        },
        "id": "5jrGrcoBvAps",
        "outputId": "c8586be8-1c10-48d2-85dd-158b58f8fefa"
      },
      "source": [
        "stations_total = station_daily.groupby('STATION').sum()\\\n",
        "    .sort_values('TOTAL_TRAFFIC', ascending=False)\\\n",
        "    .reset_index()\n",
        "\n",
        "stations_total.head(3)"
      ],
      "execution_count": 25,
      "outputs": [
        {
          "output_type": "execute_result",
          "data": {
            "text/html": [
              "<div>\n",
              "<style scoped>\n",
              "    .dataframe tbody tr th:only-of-type {\n",
              "        vertical-align: middle;\n",
              "    }\n",
              "\n",
              "    .dataframe tbody tr th {\n",
              "        vertical-align: top;\n",
              "    }\n",
              "\n",
              "    .dataframe thead th {\n",
              "        text-align: right;\n",
              "    }\n",
              "</style>\n",
              "<table border=\"1\" class=\"dataframe\">\n",
              "  <thead>\n",
              "    <tr style=\"text-align: right;\">\n",
              "      <th></th>\n",
              "      <th>STATION</th>\n",
              "      <th>TOTAL_TRAFFIC</th>\n",
              "    </tr>\n",
              "  </thead>\n",
              "  <tbody>\n",
              "    <tr>\n",
              "      <th>0</th>\n",
              "      <td>34 ST-PENN STA</td>\n",
              "      <td>8107596.0</td>\n",
              "    </tr>\n",
              "    <tr>\n",
              "      <th>1</th>\n",
              "      <td>23 ST</td>\n",
              "      <td>5172795.0</td>\n",
              "    </tr>\n",
              "    <tr>\n",
              "      <th>2</th>\n",
              "      <td>GRD CNTRL-42 ST</td>\n",
              "      <td>5038151.0</td>\n",
              "    </tr>\n",
              "  </tbody>\n",
              "</table>\n",
              "</div>"
            ],
            "text/plain": [
              "           STATION  TOTAL_TRAFFIC\n",
              "0   34 ST-PENN STA      8107596.0\n",
              "1            23 ST      5172795.0\n",
              "2  GRD CNTRL-42 ST      5038151.0"
            ]
          },
          "metadata": {},
          "execution_count": 25
        }
      ]
    },
    {
      "cell_type": "markdown",
      "metadata": {
        "id": "Ug8-TqLrtZBu"
      },
      "source": [
        "Using the sum to find the top three stations \n",
        "using round(0) to return the nearest integer"
      ]
    },
    {
      "cell_type": "code",
      "metadata": {
        "id": "TQ7Sjvg1zzB-"
      },
      "source": [
        "station_avg = station_daily.groupby('STATION').sum().round(0)\\\n",
        "    .sort_values('TOTAL_TRAFFIC', ascending=False)\\\n",
        "    .reset_index()"
      ],
      "execution_count": 26,
      "outputs": []
    },
    {
      "cell_type": "markdown",
      "metadata": {
        "id": "6XCSn50s-o-_"
      },
      "source": [
        "Plot the top 3 stations are more crowded "
      ]
    },
    {
      "cell_type": "code",
      "metadata": {
        "colab": {
          "base_uri": "https://localhost:8080/",
          "height": 416
        },
        "id": "3tkzEVxGz9BV",
        "outputId": "03e615d7-6e11-4e31-975e-10ad8146f717"
      },
      "source": [
        "top_three_stations_avg_daily = station_avg[:3]\n",
        "plt.figure(figsize=[8,5])\n",
        "\n",
        "ax = sns.barplot('STATION', 'TOTAL_TRAFFIC', data=top_three_stations_avg_daily,color= '#3470A3')\n",
        "\n",
        "plt.title('Top 3 stations are more crowded', size=20, weight='bold')\n",
        "plt.xlabel(\"Stations\", size=15)\n",
        "plt.ylabel(\" Total Traffic\", size=15)\n",
        "\n",
        "plt.savefig('topthree.png') # To save the plot.\n",
        "files.download('topthree.png') # To download the plot to your computer."
      ],
      "execution_count": 27,
      "outputs": [
        {
          "output_type": "stream",
          "name": "stderr",
          "text": [
            "/usr/local/lib/python3.7/dist-packages/seaborn/_decorators.py:43: FutureWarning: Pass the following variables as keyword args: x, y. From version 0.12, the only valid positional argument will be `data`, and passing other arguments without an explicit keyword will result in an error or misinterpretation.\n",
            "  FutureWarning\n"
          ]
        },
        {
          "output_type": "display_data",
          "data": {
            "application/javascript": [
              "\n",
              "    async function download(id, filename, size) {\n",
              "      if (!google.colab.kernel.accessAllowed) {\n",
              "        return;\n",
              "      }\n",
              "      const div = document.createElement('div');\n",
              "      const label = document.createElement('label');\n",
              "      label.textContent = `Downloading \"${filename}\": `;\n",
              "      div.appendChild(label);\n",
              "      const progress = document.createElement('progress');\n",
              "      progress.max = size;\n",
              "      div.appendChild(progress);\n",
              "      document.body.appendChild(div);\n",
              "\n",
              "      const buffers = [];\n",
              "      let downloaded = 0;\n",
              "\n",
              "      const channel = await google.colab.kernel.comms.open(id);\n",
              "      // Send a message to notify the kernel that we're ready.\n",
              "      channel.send({})\n",
              "\n",
              "      for await (const message of channel.messages) {\n",
              "        // Send a message to notify the kernel that we're ready.\n",
              "        channel.send({})\n",
              "        if (message.buffers) {\n",
              "          for (const buffer of message.buffers) {\n",
              "            buffers.push(buffer);\n",
              "            downloaded += buffer.byteLength;\n",
              "            progress.value = downloaded;\n",
              "          }\n",
              "        }\n",
              "      }\n",
              "      const blob = new Blob(buffers, {type: 'application/binary'});\n",
              "      const a = document.createElement('a');\n",
              "      a.href = window.URL.createObjectURL(blob);\n",
              "      a.download = filename;\n",
              "      div.appendChild(a);\n",
              "      a.click();\n",
              "      div.remove();\n",
              "    }\n",
              "  "
            ],
            "text/plain": [
              "<IPython.core.display.Javascript object>"
            ]
          },
          "metadata": {}
        },
        {
          "output_type": "display_data",
          "data": {
            "application/javascript": [
              "download(\"download_9bf9f7a5-d1a1-4c2f-9345-884e9b79fc1b\", \"topthree.png\", 15651)"
            ],
            "text/plain": [
              "<IPython.core.display.Javascript object>"
            ]
          },
          "metadata": {}
        },
        {
          "output_type": "display_data",
          "data": {
            "image/png": "[encoded data removed]",
            "text/plain": [
              "<Figure size 576x360 with 1 Axes>"
            ]
          },
          "metadata": {
            "needs_background": "light"
          }
        }
      ]
    },
    {
      "cell_type": "markdown",
      "metadata": {
        "id": "eUECN8bFbFvz"
      },
      "source": [
        "# **Find the Top 3 stations are more cowded in weekday and weekend**"
      ]
    },
    {
      "cell_type": "code",
      "metadata": {
        "colab": {
          "base_uri": "https://localhost:8080/",
          "height": 989
        },
        "id": "FKeKkoxCzMYd",
        "outputId": "441147dd-a9af-42f3-864f-cad88744981c"
      },
      "source": [
        "turnstiles_df['DATE'] = pd.to_datetime(turnstiles_df['DATE'], cache=True)\n",
        "turnstiles_df['Week_Day'] = turnstiles_df['DATE'].dt.day_name() #New column to identify the name of day.\n",
        "turnstiles_df"
      ],
      "execution_count": 28,
      "outputs": [
        {
          "output_type": "stream",
          "name": "stderr",
          "text": [
            "/usr/local/lib/python3.7/dist-packages/ipykernel_launcher.py:1: SettingWithCopyWarning: \n",
            "A value is trying to be set on a copy of a slice from a DataFrame.\n",
            "Try using .loc[row_indexer,col_indexer] = value instead\n",
            "\n",
            "See the caveats in the documentation: https://pandas.pydata.org/pandas-docs/stable/user_guide/indexing.html#returning-a-view-versus-a-copy\n",
            "  \"\"\"Entry point for launching an IPython kernel.\n",
            "/usr/local/lib/python3.7/dist-packages/ipykernel_launcher.py:2: SettingWithCopyWarning: \n",
            "A value is trying to be set on a copy of a slice from a DataFrame.\n",
            "Try using .loc[row_indexer,col_indexer] = value instead\n",
            "\n",
            "See the caveats in the documentation: https://pandas.pydata.org/pandas-docs/stable/user_guide/indexing.html#returning-a-view-versus-a-copy\n",
            "  \n"
          ]
        },
        {
          "output_type": "execute_result",
          "data": {
            "text/html": [
              "<div>\n",
              "<style scoped>\n",
              "    .dataframe tbody tr th:only-of-type {\n",
              "        vertical-align: middle;\n",
              "    }\n",
              "\n",
              "    .dataframe tbody tr th {\n",
              "        vertical-align: top;\n",
              "    }\n",
              "\n",
              "    .dataframe thead th {\n",
              "        text-align: right;\n",
              "    }\n",
              "</style>\n",
              "<table border=\"1\" class=\"dataframe\">\n",
              "  <thead>\n",
              "    <tr style=\"text-align: right;\">\n",
              "      <th></th>\n",
              "      <th>C/A</th>\n",
              "      <th>UNIT</th>\n",
              "      <th>SCP</th>\n",
              "      <th>STATION</th>\n",
              "      <th>LINENAME</th>\n",
              "      <th>DIVISION</th>\n",
              "      <th>DATE</th>\n",
              "      <th>TIME</th>\n",
              "      <th>DESC</th>\n",
              "      <th>ENTRIES</th>\n",
              "      <th>EXITS</th>\n",
              "      <th>DATETIME</th>\n",
              "      <th>PREV_DATETIME</th>\n",
              "      <th>PREV_ENTRIES</th>\n",
              "      <th>PREV_EXITS</th>\n",
              "      <th>TOTAL_ENTRIES</th>\n",
              "      <th>TOTAL_EXITS</th>\n",
              "      <th>TOTAL_TRAFFIC</th>\n",
              "      <th>Week_Day</th>\n",
              "    </tr>\n",
              "  </thead>\n",
              "  <tbody>\n",
              "    <tr>\n",
              "      <th>1</th>\n",
              "      <td>A002</td>\n",
              "      <td>R051</td>\n",
              "      <td>02-00-00</td>\n",
              "      <td>59 ST</td>\n",
              "      <td>NQR456W</td>\n",
              "      <td>BMT</td>\n",
              "      <td>2021-05-29</td>\n",
              "      <td>04:00:00</td>\n",
              "      <td>REGULAR</td>\n",
              "      <td>7578740</td>\n",
              "      <td>2590327</td>\n",
              "      <td>2021-05-29 04:00:00</td>\n",
              "      <td>2021-05-29 00:00:00</td>\n",
              "      <td>7578734.0</td>\n",
              "      <td>2590325.0</td>\n",
              "      <td>6.0</td>\n",
              "      <td>2.0</td>\n",
              "      <td>8.0</td>\n",
              "      <td>Saturday</td>\n",
              "    </tr>\n",
              "    <tr>\n",
              "      <th>2</th>\n",
              "      <td>A002</td>\n",
              "      <td>R051</td>\n",
              "      <td>02-00-00</td>\n",
              "      <td>59 ST</td>\n",
              "      <td>NQR456W</td>\n",
              "      <td>BMT</td>\n",
              "      <td>2021-05-29</td>\n",
              "      <td>08:00:00</td>\n",
              "      <td>REGULAR</td>\n",
              "      <td>7578749</td>\n",
              "      <td>2590340</td>\n",
              "      <td>2021-05-29 08:00:00</td>\n",
              "      <td>2021-05-29 04:00:00</td>\n",
              "      <td>7578740.0</td>\n",
              "      <td>2590327.0</td>\n",
              "      <td>9.0</td>\n",
              "      <td>13.0</td>\n",
              "      <td>22.0</td>\n",
              "      <td>Saturday</td>\n",
              "    </tr>\n",
              "    <tr>\n",
              "      <th>3</th>\n",
              "      <td>A002</td>\n",
              "      <td>R051</td>\n",
              "      <td>02-00-00</td>\n",
              "      <td>59 ST</td>\n",
              "      <td>NQR456W</td>\n",
              "      <td>BMT</td>\n",
              "      <td>2021-05-29</td>\n",
              "      <td>12:00:00</td>\n",
              "      <td>REGULAR</td>\n",
              "      <td>7578789</td>\n",
              "      <td>2590386</td>\n",
              "      <td>2021-05-29 12:00:00</td>\n",
              "      <td>2021-05-29 08:00:00</td>\n",
              "      <td>7578749.0</td>\n",
              "      <td>2590340.0</td>\n",
              "      <td>40.0</td>\n",
              "      <td>46.0</td>\n",
              "      <td>86.0</td>\n",
              "      <td>Saturday</td>\n",
              "    </tr>\n",
              "    <tr>\n",
              "      <th>4</th>\n",
              "      <td>A002</td>\n",
              "      <td>R051</td>\n",
              "      <td>02-00-00</td>\n",
              "      <td>59 ST</td>\n",
              "      <td>NQR456W</td>\n",
              "      <td>BMT</td>\n",
              "      <td>2021-05-29</td>\n",
              "      <td>16:00:00</td>\n",
              "      <td>REGULAR</td>\n",
              "      <td>7578897</td>\n",
              "      <td>2590418</td>\n",
              "      <td>2021-05-29 16:00:00</td>\n",
              "      <td>2021-05-29 12:00:00</td>\n",
              "      <td>7578789.0</td>\n",
              "      <td>2590386.0</td>\n",
              "      <td>108.0</td>\n",
              "      <td>32.0</td>\n",
              "      <td>140.0</td>\n",
              "      <td>Saturday</td>\n",
              "    </tr>\n",
              "    <tr>\n",
              "      <th>5</th>\n",
              "      <td>A002</td>\n",
              "      <td>R051</td>\n",
              "      <td>02-00-00</td>\n",
              "      <td>59 ST</td>\n",
              "      <td>NQR456W</td>\n",
              "      <td>BMT</td>\n",
              "      <td>2021-05-29</td>\n",
              "      <td>20:00:00</td>\n",
              "      <td>REGULAR</td>\n",
              "      <td>7579021</td>\n",
              "      <td>2590439</td>\n",
              "      <td>2021-05-29 20:00:00</td>\n",
              "      <td>2021-05-29 16:00:00</td>\n",
              "      <td>7578897.0</td>\n",
              "      <td>2590418.0</td>\n",
              "      <td>124.0</td>\n",
              "      <td>21.0</td>\n",
              "      <td>145.0</td>\n",
              "      <td>Saturday</td>\n",
              "    </tr>\n",
              "    <tr>\n",
              "      <th>...</th>\n",
              "      <td>...</td>\n",
              "      <td>...</td>\n",
              "      <td>...</td>\n",
              "      <td>...</td>\n",
              "      <td>...</td>\n",
              "      <td>...</td>\n",
              "      <td>...</td>\n",
              "      <td>...</td>\n",
              "      <td>...</td>\n",
              "      <td>...</td>\n",
              "      <td>...</td>\n",
              "      <td>...</td>\n",
              "      <td>...</td>\n",
              "      <td>...</td>\n",
              "      <td>...</td>\n",
              "      <td>...</td>\n",
              "      <td>...</td>\n",
              "      <td>...</td>\n",
              "      <td>...</td>\n",
              "    </tr>\n",
              "    <tr>\n",
              "      <th>209730</th>\n",
              "      <td>TRAM2</td>\n",
              "      <td>R469</td>\n",
              "      <td>00-05-01</td>\n",
              "      <td>RIT-ROOSEVELT</td>\n",
              "      <td>R</td>\n",
              "      <td>RIT</td>\n",
              "      <td>2021-09-03</td>\n",
              "      <td>05:00:00</td>\n",
              "      <td>REGULAR</td>\n",
              "      <td>5554</td>\n",
              "      <td>638</td>\n",
              "      <td>2021-09-03 05:00:00</td>\n",
              "      <td>2021-09-03 01:00:00</td>\n",
              "      <td>5554.0</td>\n",
              "      <td>638.0</td>\n",
              "      <td>0.0</td>\n",
              "      <td>0.0</td>\n",
              "      <td>0.0</td>\n",
              "      <td>Friday</td>\n",
              "    </tr>\n",
              "    <tr>\n",
              "      <th>209731</th>\n",
              "      <td>TRAM2</td>\n",
              "      <td>R469</td>\n",
              "      <td>00-05-01</td>\n",
              "      <td>RIT-ROOSEVELT</td>\n",
              "      <td>R</td>\n",
              "      <td>RIT</td>\n",
              "      <td>2021-09-03</td>\n",
              "      <td>09:00:00</td>\n",
              "      <td>REGULAR</td>\n",
              "      <td>5554</td>\n",
              "      <td>638</td>\n",
              "      <td>2021-09-03 09:00:00</td>\n",
              "      <td>2021-09-03 05:00:00</td>\n",
              "      <td>5554.0</td>\n",
              "      <td>638.0</td>\n",
              "      <td>0.0</td>\n",
              "      <td>0.0</td>\n",
              "      <td>0.0</td>\n",
              "      <td>Friday</td>\n",
              "    </tr>\n",
              "    <tr>\n",
              "      <th>209732</th>\n",
              "      <td>TRAM2</td>\n",
              "      <td>R469</td>\n",
              "      <td>00-05-01</td>\n",
              "      <td>RIT-ROOSEVELT</td>\n",
              "      <td>R</td>\n",
              "      <td>RIT</td>\n",
              "      <td>2021-09-03</td>\n",
              "      <td>13:00:00</td>\n",
              "      <td>REGULAR</td>\n",
              "      <td>5554</td>\n",
              "      <td>638</td>\n",
              "      <td>2021-09-03 13:00:00</td>\n",
              "      <td>2021-09-03 09:00:00</td>\n",
              "      <td>5554.0</td>\n",
              "      <td>638.0</td>\n",
              "      <td>0.0</td>\n",
              "      <td>0.0</td>\n",
              "      <td>0.0</td>\n",
              "      <td>Friday</td>\n",
              "    </tr>\n",
              "    <tr>\n",
              "      <th>209733</th>\n",
              "      <td>TRAM2</td>\n",
              "      <td>R469</td>\n",
              "      <td>00-05-01</td>\n",
              "      <td>RIT-ROOSEVELT</td>\n",
              "      <td>R</td>\n",
              "      <td>RIT</td>\n",
              "      <td>2021-09-03</td>\n",
              "      <td>17:00:00</td>\n",
              "      <td>REGULAR</td>\n",
              "      <td>5554</td>\n",
              "      <td>638</td>\n",
              "      <td>2021-09-03 17:00:00</td>\n",
              "      <td>2021-09-03 13:00:00</td>\n",
              "      <td>5554.0</td>\n",
              "      <td>638.0</td>\n",
              "      <td>0.0</td>\n",
              "      <td>0.0</td>\n",
              "      <td>0.0</td>\n",
              "      <td>Friday</td>\n",
              "    </tr>\n",
              "    <tr>\n",
              "      <th>209734</th>\n",
              "      <td>TRAM2</td>\n",
              "      <td>R469</td>\n",
              "      <td>00-05-01</td>\n",
              "      <td>RIT-ROOSEVELT</td>\n",
              "      <td>R</td>\n",
              "      <td>RIT</td>\n",
              "      <td>2021-09-03</td>\n",
              "      <td>21:00:00</td>\n",
              "      <td>REGULAR</td>\n",
              "      <td>5554</td>\n",
              "      <td>639</td>\n",
              "      <td>2021-09-03 21:00:00</td>\n",
              "      <td>2021-09-03 17:00:00</td>\n",
              "      <td>5554.0</td>\n",
              "      <td>638.0</td>\n",
              "      <td>0.0</td>\n",
              "      <td>1.0</td>\n",
              "      <td>1.0</td>\n",
              "      <td>Friday</td>\n",
              "    </tr>\n",
              "  </tbody>\n",
              "</table>\n",
              "<p>2668902 rows × 19 columns</p>\n",
              "</div>"
            ],
            "text/plain": [
              "          C/A  UNIT       SCP  ... TOTAL_EXITS TOTAL_TRAFFIC  Week_Day\n",
              "1        A002  R051  02-00-00  ...         2.0           8.0  Saturday\n",
              "2        A002  R051  02-00-00  ...        13.0          22.0  Saturday\n",
              "3        A002  R051  02-00-00  ...        46.0          86.0  Saturday\n",
              "4        A002  R051  02-00-00  ...        32.0         140.0  Saturday\n",
              "5        A002  R051  02-00-00  ...        21.0         145.0  Saturday\n",
              "...       ...   ...       ...  ...         ...           ...       ...\n",
              "209730  TRAM2  R469  00-05-01  ...         0.0           0.0    Friday\n",
              "209731  TRAM2  R469  00-05-01  ...         0.0           0.0    Friday\n",
              "209732  TRAM2  R469  00-05-01  ...         0.0           0.0    Friday\n",
              "209733  TRAM2  R469  00-05-01  ...         0.0           0.0    Friday\n",
              "209734  TRAM2  R469  00-05-01  ...         1.0           1.0    Friday\n",
              "\n",
              "[2668902 rows x 19 columns]"
            ]
          },
          "metadata": {},
          "execution_count": 28
        }
      ]
    },
    {
      "cell_type": "markdown",
      "metadata": {
        "id": "Nrt_sYqjbajW"
      },
      "source": [
        "Identify the weekend and weekday"
      ]
    },
    {
      "cell_type": "code",
      "metadata": {
        "id": "pPL9mbUi26rU",
        "colab": {
          "base_uri": "https://localhost:8080/",
          "height": 882
        },
        "outputId": "1f64a853-c339-4f8f-e109-2904bbde0ce6"
      },
      "source": [
        "turnstiles_df['WEEKEND'] = (turnstiles_df['Week_Day']\n",
        "                                   .apply(lambda x: 'WEEKEND' \n",
        "                                          if (x == 'Saturday' or x == 'Sunday') \n",
        "                                          else 'WEEKDAY'))\n",
        "\n",
        "turnstiles_df"
      ],
      "execution_count": 29,
      "outputs": [
        {
          "output_type": "stream",
          "name": "stderr",
          "text": [
            "/usr/local/lib/python3.7/dist-packages/ipykernel_launcher.py:2: SettingWithCopyWarning: \n",
            "A value is trying to be set on a copy of a slice from a DataFrame.\n",
            "Try using .loc[row_indexer,col_indexer] = value instead\n",
            "\n",
            "See the caveats in the documentation: https://pandas.pydata.org/pandas-docs/stable/user_guide/indexing.html#returning-a-view-versus-a-copy\n",
            "  \n"
          ]
        },
        {
          "output_type": "execute_result",
          "data": {
            "text/html": [
              "<div>\n",
              "<style scoped>\n",
              "    .dataframe tbody tr th:only-of-type {\n",
              "        vertical-align: middle;\n",
              "    }\n",
              "\n",
              "    .dataframe tbody tr th {\n",
              "        vertical-align: top;\n",
              "    }\n",
              "\n",
              "    .dataframe thead th {\n",
              "        text-align: right;\n",
              "    }\n",
              "</style>\n",
              "<table border=\"1\" class=\"dataframe\">\n",
              "  <thead>\n",
              "    <tr style=\"text-align: right;\">\n",
              "      <th></th>\n",
              "      <th>C/A</th>\n",
              "      <th>UNIT</th>\n",
              "      <th>SCP</th>\n",
              "      <th>STATION</th>\n",
              "      <th>LINENAME</th>\n",
              "      <th>DIVISION</th>\n",
              "      <th>DATE</th>\n",
              "      <th>TIME</th>\n",
              "      <th>DESC</th>\n",
              "      <th>ENTRIES</th>\n",
              "      <th>EXITS</th>\n",
              "      <th>DATETIME</th>\n",
              "      <th>PREV_DATETIME</th>\n",
              "      <th>PREV_ENTRIES</th>\n",
              "      <th>PREV_EXITS</th>\n",
              "      <th>TOTAL_ENTRIES</th>\n",
              "      <th>TOTAL_EXITS</th>\n",
              "      <th>TOTAL_TRAFFIC</th>\n",
              "      <th>Week_Day</th>\n",
              "      <th>WEEKEND</th>\n",
              "    </tr>\n",
              "  </thead>\n",
              "  <tbody>\n",
              "    <tr>\n",
              "      <th>1</th>\n",
              "      <td>A002</td>\n",
              "      <td>R051</td>\n",
              "      <td>02-00-00</td>\n",
              "      <td>59 ST</td>\n",
              "      <td>NQR456W</td>\n",
              "      <td>BMT</td>\n",
              "      <td>2021-05-29</td>\n",
              "      <td>04:00:00</td>\n",
              "      <td>REGULAR</td>\n",
              "      <td>7578740</td>\n",
              "      <td>2590327</td>\n",
              "      <td>2021-05-29 04:00:00</td>\n",
              "      <td>2021-05-29 00:00:00</td>\n",
              "      <td>7578734.0</td>\n",
              "      <td>2590325.0</td>\n",
              "      <td>6.0</td>\n",
              "      <td>2.0</td>\n",
              "      <td>8.0</td>\n",
              "      <td>Saturday</td>\n",
              "      <td>WEEKEND</td>\n",
              "    </tr>\n",
              "    <tr>\n",
              "      <th>2</th>\n",
              "      <td>A002</td>\n",
              "      <td>R051</td>\n",
              "      <td>02-00-00</td>\n",
              "      <td>59 ST</td>\n",
              "      <td>NQR456W</td>\n",
              "      <td>BMT</td>\n",
              "      <td>2021-05-29</td>\n",
              "      <td>08:00:00</td>\n",
              "      <td>REGULAR</td>\n",
              "      <td>7578749</td>\n",
              "      <td>2590340</td>\n",
              "      <td>2021-05-29 08:00:00</td>\n",
              "      <td>2021-05-29 04:00:00</td>\n",
              "      <td>7578740.0</td>\n",
              "      <td>2590327.0</td>\n",
              "      <td>9.0</td>\n",
              "      <td>13.0</td>\n",
              "      <td>22.0</td>\n",
              "      <td>Saturday</td>\n",
              "      <td>WEEKEND</td>\n",
              "    </tr>\n",
              "    <tr>\n",
              "      <th>3</th>\n",
              "      <td>A002</td>\n",
              "      <td>R051</td>\n",
              "      <td>02-00-00</td>\n",
              "      <td>59 ST</td>\n",
              "      <td>NQR456W</td>\n",
              "      <td>BMT</td>\n",
              "      <td>2021-05-29</td>\n",
              "      <td>12:00:00</td>\n",
              "      <td>REGULAR</td>\n",
              "      <td>7578789</td>\n",
              "      <td>2590386</td>\n",
              "      <td>2021-05-29 12:00:00</td>\n",
              "      <td>2021-05-29 08:00:00</td>\n",
              "      <td>7578749.0</td>\n",
              "      <td>2590340.0</td>\n",
              "      <td>40.0</td>\n",
              "      <td>46.0</td>\n",
              "      <td>86.0</td>\n",
              "      <td>Saturday</td>\n",
              "      <td>WEEKEND</td>\n",
              "    </tr>\n",
              "    <tr>\n",
              "      <th>4</th>\n",
              "      <td>A002</td>\n",
              "      <td>R051</td>\n",
              "      <td>02-00-00</td>\n",
              "      <td>59 ST</td>\n",
              "      <td>NQR456W</td>\n",
              "      <td>BMT</td>\n",
              "      <td>2021-05-29</td>\n",
              "      <td>16:00:00</td>\n",
              "      <td>REGULAR</td>\n",
              "      <td>7578897</td>\n",
              "      <td>2590418</td>\n",
              "      <td>2021-05-29 16:00:00</td>\n",
              "      <td>2021-05-29 12:00:00</td>\n",
              "      <td>7578789.0</td>\n",
              "      <td>2590386.0</td>\n",
              "      <td>108.0</td>\n",
              "      <td>32.0</td>\n",
              "      <td>140.0</td>\n",
              "      <td>Saturday</td>\n",
              "      <td>WEEKEND</td>\n",
              "    </tr>\n",
              "    <tr>\n",
              "      <th>5</th>\n",
              "      <td>A002</td>\n",
              "      <td>R051</td>\n",
              "      <td>02-00-00</td>\n",
              "      <td>59 ST</td>\n",
              "      <td>NQR456W</td>\n",
              "      <td>BMT</td>\n",
              "      <td>2021-05-29</td>\n",
              "      <td>20:00:00</td>\n",
              "      <td>REGULAR</td>\n",
              "      <td>7579021</td>\n",
              "      <td>2590439</td>\n",
              "      <td>2021-05-29 20:00:00</td>\n",
              "      <td>2021-05-29 16:00:00</td>\n",
              "      <td>7578897.0</td>\n",
              "      <td>2590418.0</td>\n",
              "      <td>124.0</td>\n",
              "      <td>21.0</td>\n",
              "      <td>145.0</td>\n",
              "      <td>Saturday</td>\n",
              "      <td>WEEKEND</td>\n",
              "    </tr>\n",
              "    <tr>\n",
              "      <th>...</th>\n",
              "      <td>...</td>\n",
              "      <td>...</td>\n",
              "      <td>...</td>\n",
              "      <td>...</td>\n",
              "      <td>...</td>\n",
              "      <td>...</td>\n",
              "      <td>...</td>\n",
              "      <td>...</td>\n",
              "      <td>...</td>\n",
              "      <td>...</td>\n",
              "      <td>...</td>\n",
              "      <td>...</td>\n",
              "      <td>...</td>\n",
              "      <td>...</td>\n",
              "      <td>...</td>\n",
              "      <td>...</td>\n",
              "      <td>...</td>\n",
              "      <td>...</td>\n",
              "      <td>...</td>\n",
              "      <td>...</td>\n",
              "    </tr>\n",
              "    <tr>\n",
              "      <th>209730</th>\n",
              "      <td>TRAM2</td>\n",
              "      <td>R469</td>\n",
              "      <td>00-05-01</td>\n",
              "      <td>RIT-ROOSEVELT</td>\n",
              "      <td>R</td>\n",
              "      <td>RIT</td>\n",
              "      <td>2021-09-03</td>\n",
              "      <td>05:00:00</td>\n",
              "      <td>REGULAR</td>\n",
              "      <td>5554</td>\n",
              "      <td>638</td>\n",
              "      <td>2021-09-03 05:00:00</td>\n",
              "      <td>2021-09-03 01:00:00</td>\n",
              "      <td>5554.0</td>\n",
              "      <td>638.0</td>\n",
              "      <td>0.0</td>\n",
              "      <td>0.0</td>\n",
              "      <td>0.0</td>\n",
              "      <td>Friday</td>\n",
              "      <td>WEEKDAY</td>\n",
              "    </tr>\n",
              "    <tr>\n",
              "      <th>209731</th>\n",
              "      <td>TRAM2</td>\n",
              "      <td>R469</td>\n",
              "      <td>00-05-01</td>\n",
              "      <td>RIT-ROOSEVELT</td>\n",
              "      <td>R</td>\n",
              "      <td>RIT</td>\n",
              "      <td>2021-09-03</td>\n",
              "      <td>09:00:00</td>\n",
              "      <td>REGULAR</td>\n",
              "      <td>5554</td>\n",
              "      <td>638</td>\n",
              "      <td>2021-09-03 09:00:00</td>\n",
              "      <td>2021-09-03 05:00:00</td>\n",
              "      <td>5554.0</td>\n",
              "      <td>638.0</td>\n",
              "      <td>0.0</td>\n",
              "      <td>0.0</td>\n",
              "      <td>0.0</td>\n",
              "      <td>Friday</td>\n",
              "      <td>WEEKDAY</td>\n",
              "    </tr>\n",
              "    <tr>\n",
              "      <th>209732</th>\n",
              "      <td>TRAM2</td>\n",
              "      <td>R469</td>\n",
              "      <td>00-05-01</td>\n",
              "      <td>RIT-ROOSEVELT</td>\n",
              "      <td>R</td>\n",
              "      <td>RIT</td>\n",
              "      <td>2021-09-03</td>\n",
              "      <td>13:00:00</td>\n",
              "      <td>REGULAR</td>\n",
              "      <td>5554</td>\n",
              "      <td>638</td>\n",
              "      <td>2021-09-03 13:00:00</td>\n",
              "      <td>2021-09-03 09:00:00</td>\n",
              "      <td>5554.0</td>\n",
              "      <td>638.0</td>\n",
              "      <td>0.0</td>\n",
              "      <td>0.0</td>\n",
              "      <td>0.0</td>\n",
              "      <td>Friday</td>\n",
              "      <td>WEEKDAY</td>\n",
              "    </tr>\n",
              "    <tr>\n",
              "      <th>209733</th>\n",
              "      <td>TRAM2</td>\n",
              "      <td>R469</td>\n",
              "      <td>00-05-01</td>\n",
              "      <td>RIT-ROOSEVELT</td>\n",
              "      <td>R</td>\n",
              "      <td>RIT</td>\n",
              "      <td>2021-09-03</td>\n",
              "      <td>17:00:00</td>\n",
              "      <td>REGULAR</td>\n",
              "      <td>5554</td>\n",
              "      <td>638</td>\n",
              "      <td>2021-09-03 17:00:00</td>\n",
              "      <td>2021-09-03 13:00:00</td>\n",
              "      <td>5554.0</td>\n",
              "      <td>638.0</td>\n",
              "      <td>0.0</td>\n",
              "      <td>0.0</td>\n",
              "      <td>0.0</td>\n",
              "      <td>Friday</td>\n",
              "      <td>WEEKDAY</td>\n",
              "    </tr>\n",
              "    <tr>\n",
              "      <th>209734</th>\n",
              "      <td>TRAM2</td>\n",
              "      <td>R469</td>\n",
              "      <td>00-05-01</td>\n",
              "      <td>RIT-ROOSEVELT</td>\n",
              "      <td>R</td>\n",
              "      <td>RIT</td>\n",
              "      <td>2021-09-03</td>\n",
              "      <td>21:00:00</td>\n",
              "      <td>REGULAR</td>\n",
              "      <td>5554</td>\n",
              "      <td>639</td>\n",
              "      <td>2021-09-03 21:00:00</td>\n",
              "      <td>2021-09-03 17:00:00</td>\n",
              "      <td>5554.0</td>\n",
              "      <td>638.0</td>\n",
              "      <td>0.0</td>\n",
              "      <td>1.0</td>\n",
              "      <td>1.0</td>\n",
              "      <td>Friday</td>\n",
              "      <td>WEEKDAY</td>\n",
              "    </tr>\n",
              "  </tbody>\n",
              "</table>\n",
              "<p>2668902 rows × 20 columns</p>\n",
              "</div>"
            ],
            "text/plain": [
              "          C/A  UNIT       SCP  ... TOTAL_TRAFFIC  Week_Day  WEEKEND\n",
              "1        A002  R051  02-00-00  ...           8.0  Saturday  WEEKEND\n",
              "2        A002  R051  02-00-00  ...          22.0  Saturday  WEEKEND\n",
              "3        A002  R051  02-00-00  ...          86.0  Saturday  WEEKEND\n",
              "4        A002  R051  02-00-00  ...         140.0  Saturday  WEEKEND\n",
              "5        A002  R051  02-00-00  ...         145.0  Saturday  WEEKEND\n",
              "...       ...   ...       ...  ...           ...       ...      ...\n",
              "209730  TRAM2  R469  00-05-01  ...           0.0    Friday  WEEKDAY\n",
              "209731  TRAM2  R469  00-05-01  ...           0.0    Friday  WEEKDAY\n",
              "209732  TRAM2  R469  00-05-01  ...           0.0    Friday  WEEKDAY\n",
              "209733  TRAM2  R469  00-05-01  ...           0.0    Friday  WEEKDAY\n",
              "209734  TRAM2  R469  00-05-01  ...           1.0    Friday  WEEKDAY\n",
              "\n",
              "[2668902 rows x 20 columns]"
            ]
          },
          "metadata": {},
          "execution_count": 29
        }
      ]
    },
    {
      "cell_type": "code",
      "metadata": {
        "colab": {
          "base_uri": "https://localhost:8080/",
          "height": 141
        },
        "id": "eLZVFmTeNoql",
        "outputId": "c4fc753c-3347-4cf7-fc73-040bc6f86b4f"
      },
      "source": [
        "station_avg_weekend = turnstiles_df[turnstiles_df.WEEKEND=='WEEKEND'].groupby([ 'STATION','WEEKEND'])[['TOTAL_TRAFFIC']].sum().round(0).reset_index().head(3)\n",
        "station_avg_weekday = turnstiles_df[turnstiles_df.WEEKEND=='WEEKDAY'].groupby([ 'STATION','WEEKEND']).TOTAL_TRAFFIC.sum().round(0).reset_index().head(3)\n",
        "station_avg_weekend\n"
      ],
      "execution_count": 30,
      "outputs": [
        {
          "output_type": "execute_result",
          "data": {
            "text/html": [
              "<div>\n",
              "<style scoped>\n",
              "    .dataframe tbody tr th:only-of-type {\n",
              "        vertical-align: middle;\n",
              "    }\n",
              "\n",
              "    .dataframe tbody tr th {\n",
              "        vertical-align: top;\n",
              "    }\n",
              "\n",
              "    .dataframe thead th {\n",
              "        text-align: right;\n",
              "    }\n",
              "</style>\n",
              "<table border=\"1\" class=\"dataframe\">\n",
              "  <thead>\n",
              "    <tr style=\"text-align: right;\">\n",
              "      <th></th>\n",
              "      <th>STATION</th>\n",
              "      <th>WEEKEND</th>\n",
              "      <th>TOTAL_TRAFFIC</th>\n",
              "    </tr>\n",
              "  </thead>\n",
              "  <tbody>\n",
              "    <tr>\n",
              "      <th>0</th>\n",
              "      <td>1 AV</td>\n",
              "      <td>WEEKEND</td>\n",
              "      <td>438577.0</td>\n",
              "    </tr>\n",
              "    <tr>\n",
              "      <th>1</th>\n",
              "      <td>103 ST</td>\n",
              "      <td>WEEKEND</td>\n",
              "      <td>356273.0</td>\n",
              "    </tr>\n",
              "    <tr>\n",
              "      <th>2</th>\n",
              "      <td>103 ST-CORONA</td>\n",
              "      <td>WEEKEND</td>\n",
              "      <td>386895.0</td>\n",
              "    </tr>\n",
              "  </tbody>\n",
              "</table>\n",
              "</div>"
            ],
            "text/plain": [
              "         STATION  WEEKEND  TOTAL_TRAFFIC\n",
              "0           1 AV  WEEKEND       438577.0\n",
              "1         103 ST  WEEKEND       356273.0\n",
              "2  103 ST-CORONA  WEEKEND       386895.0"
            ]
          },
          "metadata": {},
          "execution_count": 30
        }
      ]
    },
    {
      "cell_type": "code",
      "metadata": {
        "colab": {
          "base_uri": "https://localhost:8080/",
          "height": 141
        },
        "id": "g5YrZrwDXFyu",
        "outputId": "a6fa4bb1-6a55-4ddb-87c0-4286ba4ea843"
      },
      "source": [
        "station_avg_weekday"
      ],
      "execution_count": 31,
      "outputs": [
        {
          "output_type": "execute_result",
          "data": {
            "text/html": [
              "<div>\n",
              "<style scoped>\n",
              "    .dataframe tbody tr th:only-of-type {\n",
              "        vertical-align: middle;\n",
              "    }\n",
              "\n",
              "    .dataframe tbody tr th {\n",
              "        vertical-align: top;\n",
              "    }\n",
              "\n",
              "    .dataframe thead th {\n",
              "        text-align: right;\n",
              "    }\n",
              "</style>\n",
              "<table border=\"1\" class=\"dataframe\">\n",
              "  <thead>\n",
              "    <tr style=\"text-align: right;\">\n",
              "      <th></th>\n",
              "      <th>STATION</th>\n",
              "      <th>WEEKEND</th>\n",
              "      <th>TOTAL_TRAFFIC</th>\n",
              "    </tr>\n",
              "  </thead>\n",
              "  <tbody>\n",
              "    <tr>\n",
              "      <th>0</th>\n",
              "      <td>1 AV</td>\n",
              "      <td>WEEKDAY</td>\n",
              "      <td>1165539.0</td>\n",
              "    </tr>\n",
              "    <tr>\n",
              "      <th>1</th>\n",
              "      <td>103 ST</td>\n",
              "      <td>WEEKDAY</td>\n",
              "      <td>1275247.0</td>\n",
              "    </tr>\n",
              "    <tr>\n",
              "      <th>2</th>\n",
              "      <td>103 ST-CORONA</td>\n",
              "      <td>WEEKDAY</td>\n",
              "      <td>911482.0</td>\n",
              "    </tr>\n",
              "  </tbody>\n",
              "</table>\n",
              "</div>"
            ],
            "text/plain": [
              "         STATION  WEEKEND  TOTAL_TRAFFIC\n",
              "0           1 AV  WEEKDAY      1165539.0\n",
              "1         103 ST  WEEKDAY      1275247.0\n",
              "2  103 ST-CORONA  WEEKDAY       911482.0"
            ]
          },
          "metadata": {},
          "execution_count": 31
        }
      ]
    },
    {
      "cell_type": "code",
      "metadata": {
        "colab": {
          "base_uri": "https://localhost:8080/",
          "height": 141
        },
        "id": "B-tfPBc5vUOn",
        "outputId": "c1364b59-583e-4170-ed36-40eb47c36505"
      },
      "source": [
        "station_avg_weekday.sort_values(['TOTAL_TRAFFIC'], ascending=False)\\\n",
        "    .reset_index().head(10)"
      ],
      "execution_count": 32,
      "outputs": [
        {
          "output_type": "execute_result",
          "data": {
            "text/html": [
              "<div>\n",
              "<style scoped>\n",
              "    .dataframe tbody tr th:only-of-type {\n",
              "        vertical-align: middle;\n",
              "    }\n",
              "\n",
              "    .dataframe tbody tr th {\n",
              "        vertical-align: top;\n",
              "    }\n",
              "\n",
              "    .dataframe thead th {\n",
              "        text-align: right;\n",
              "    }\n",
              "</style>\n",
              "<table border=\"1\" class=\"dataframe\">\n",
              "  <thead>\n",
              "    <tr style=\"text-align: right;\">\n",
              "      <th></th>\n",
              "      <th>index</th>\n",
              "      <th>STATION</th>\n",
              "      <th>WEEKEND</th>\n",
              "      <th>TOTAL_TRAFFIC</th>\n",
              "    </tr>\n",
              "  </thead>\n",
              "  <tbody>\n",
              "    <tr>\n",
              "      <th>0</th>\n",
              "      <td>1</td>\n",
              "      <td>103 ST</td>\n",
              "      <td>WEEKDAY</td>\n",
              "      <td>1275247.0</td>\n",
              "    </tr>\n",
              "    <tr>\n",
              "      <th>1</th>\n",
              "      <td>0</td>\n",
              "      <td>1 AV</td>\n",
              "      <td>WEEKDAY</td>\n",
              "      <td>1165539.0</td>\n",
              "    </tr>\n",
              "    <tr>\n",
              "      <th>2</th>\n",
              "      <td>2</td>\n",
              "      <td>103 ST-CORONA</td>\n",
              "      <td>WEEKDAY</td>\n",
              "      <td>911482.0</td>\n",
              "    </tr>\n",
              "  </tbody>\n",
              "</table>\n",
              "</div>"
            ],
            "text/plain": [
              "   index        STATION  WEEKEND  TOTAL_TRAFFIC\n",
              "0      1         103 ST  WEEKDAY      1275247.0\n",
              "1      0           1 AV  WEEKDAY      1165539.0\n",
              "2      2  103 ST-CORONA  WEEKDAY       911482.0"
            ]
          },
          "metadata": {},
          "execution_count": 32
        }
      ]
    },
    {
      "cell_type": "code",
      "metadata": {
        "colab": {
          "base_uri": "https://localhost:8080/",
          "height": 141
        },
        "id": "PsddNQbyu1dk",
        "outputId": "e1b464f1-bc37-41de-90e6-49ed93dfbed7"
      },
      "source": [
        "station_avg_weekend['TOTAL_TRAFFIC_WEEKDAY']=station_avg_weekday['TOTAL_TRAFFIC']\n",
        "station_avg_weekend['TOTAL_TRAFFIC_WEEKEND']=station_avg_weekend['TOTAL_TRAFFIC']\n",
        "station_avg_weekend.drop(['TOTAL_TRAFFIC','WEEKEND'], axis=1,inplace=True)\n",
        "station_avg_weekend.sort_values(['TOTAL_TRAFFIC_WEEKDAY', 'TOTAL_TRAFFIC_WEEKEND'], ascending=False)\\\n",
        "    .reset_index()\n",
        "station_avg_df=station_avg_weekend.head(3)\n",
        "station_avg_df"
      ],
      "execution_count": 33,
      "outputs": [
        {
          "output_type": "execute_result",
          "data": {
            "text/html": [
              "<div>\n",
              "<style scoped>\n",
              "    .dataframe tbody tr th:only-of-type {\n",
              "        vertical-align: middle;\n",
              "    }\n",
              "\n",
              "    .dataframe tbody tr th {\n",
              "        vertical-align: top;\n",
              "    }\n",
              "\n",
              "    .dataframe thead th {\n",
              "        text-align: right;\n",
              "    }\n",
              "</style>\n",
              "<table border=\"1\" class=\"dataframe\">\n",
              "  <thead>\n",
              "    <tr style=\"text-align: right;\">\n",
              "      <th></th>\n",
              "      <th>STATION</th>\n",
              "      <th>TOTAL_TRAFFIC_WEEKDAY</th>\n",
              "      <th>TOTAL_TRAFFIC_WEEKEND</th>\n",
              "    </tr>\n",
              "  </thead>\n",
              "  <tbody>\n",
              "    <tr>\n",
              "      <th>0</th>\n",
              "      <td>1 AV</td>\n",
              "      <td>1165539.0</td>\n",
              "      <td>438577.0</td>\n",
              "    </tr>\n",
              "    <tr>\n",
              "      <th>1</th>\n",
              "      <td>103 ST</td>\n",
              "      <td>1275247.0</td>\n",
              "      <td>356273.0</td>\n",
              "    </tr>\n",
              "    <tr>\n",
              "      <th>2</th>\n",
              "      <td>103 ST-CORONA</td>\n",
              "      <td>911482.0</td>\n",
              "      <td>386895.0</td>\n",
              "    </tr>\n",
              "  </tbody>\n",
              "</table>\n",
              "</div>"
            ],
            "text/plain": [
              "         STATION  TOTAL_TRAFFIC_WEEKDAY  TOTAL_TRAFFIC_WEEKEND\n",
              "0           1 AV              1165539.0               438577.0\n",
              "1         103 ST              1275247.0               356273.0\n",
              "2  103 ST-CORONA               911482.0               386895.0"
            ]
          },
          "metadata": {},
          "execution_count": 33
        }
      ]
    },
    {
      "cell_type": "markdown",
      "metadata": {
        "id": "7E0OGzZWBPzZ"
      },
      "source": [
        "Plot the traffic in the top 3 stations in each of weekend and weekday"
      ]
    },
    {
      "cell_type": "code",
      "metadata": {
        "colab": {
          "base_uri": "https://localhost:8080/",
          "height": 650
        },
        "id": "mtZcyaslur3W",
        "outputId": "cc1477ff-3963-4442-c32c-65759d648349"
      },
      "source": [
        "plt.figure(figsize=[10,10])\n",
        "barWidth = 0.25\n",
        "r1 = np.arange(len(station_avg_df['TOTAL_TRAFFIC_WEEKDAY']))\n",
        "r2 = [x + barWidth for x in r1]\n",
        " \n",
        "plt.bar(r1,station_avg_df['TOTAL_TRAFFIC_WEEKDAY'], color= '#3470A3', width=barWidth, edgecolor='white', label='TOTAL TRAFFIC WEEKDAY')\n",
        "plt.bar(r2,station_avg_df['TOTAL_TRAFFIC_WEEKEND'], color='#79ABC9', width=barWidth, edgecolor='white', label='TOTAL TRAFFIC WEEKEND')\n",
        "\n",
        "plt.xticks([r + barWidth for r in range(len(station_avg_df['TOTAL_TRAFFIC_WEEKEND']))], station_avg_df['STATION'])\n",
        "plt.title('Top 3 stations are more crowded in each of weekday and weekend', size=20, weight='bold')\n",
        "plt.rcParams['font.size']= 12\n",
        "plt.xlabel(\"Stations\", size=15)\n",
        "plt.ylabel(\" Total Traffic\", size=15)\n",
        "plt.legend()\n",
        "plt.show()\n",
        "plt.savefig('topthreeweek.png') # To save the plot.\n",
        "files.download('topthreeweek.png') # To download the plot to your computer."
      ],
      "execution_count": 34,
      "outputs": [
        {
          "output_type": "display_data",
          "data": {
            "image/png": "[encoded data removed]",
            "text/plain": [
              "<Figure size 720x720 with 1 Axes>"
            ]
          },
          "metadata": {
            "needs_background": "light"
          }
        },
        {
          "output_type": "display_data",
          "data": {
            "application/javascript": [
              "\n",
              "    async function download(id, filename, size) {\n",
              "      if (!google.colab.kernel.accessAllowed) {\n",
              "        return;\n",
              "      }\n",
              "      const div = document.createElement('div');\n",
              "      const label = document.createElement('label');\n",
              "      label.textContent = `Downloading \"${filename}\": `;\n",
              "      div.appendChild(label);\n",
              "      const progress = document.createElement('progress');\n",
              "      progress.max = size;\n",
              "      div.appendChild(progress);\n",
              "      document.body.appendChild(div);\n",
              "\n",
              "      const buffers = [];\n",
              "      let downloaded = 0;\n",
              "\n",
              "      const channel = await google.colab.kernel.comms.open(id);\n",
              "      // Send a message to notify the kernel that we're ready.\n",
              "      channel.send({})\n",
              "\n",
              "      for await (const message of channel.messages) {\n",
              "        // Send a message to notify the kernel that we're ready.\n",
              "        channel.send({})\n",
              "        if (message.buffers) {\n",
              "          for (const buffer of message.buffers) {\n",
              "            buffers.push(buffer);\n",
              "            downloaded += buffer.byteLength;\n",
              "            progress.value = downloaded;\n",
              "          }\n",
              "        }\n",
              "      }\n",
              "      const blob = new Blob(buffers, {type: 'application/binary'});\n",
              "      const a = document.createElement('a');\n",
              "      a.href = window.URL.createObjectURL(blob);\n",
              "      a.download = filename;\n",
              "      div.appendChild(a);\n",
              "      a.click();\n",
              "      div.remove();\n",
              "    }\n",
              "  "
            ],
            "text/plain": [
              "<IPython.core.display.Javascript object>"
            ]
          },
          "metadata": {}
        },
        {
          "output_type": "display_data",
          "data": {
            "application/javascript": [
              "download(\"download_a40524a1-d247-4fff-a554-1bc1f3ba171e\", \"topthreeweek.png\", 1273)"
            ],
            "text/plain": [
              "<IPython.core.display.Javascript object>"
            ]
          },
          "metadata": {}
        },
        {
          "output_type": "display_data",
          "data": {
            "text/plain": [
              "<Figure size 432x288 with 0 Axes>"
            ]
          },
          "metadata": {}
        }
      ]
    },
    {
      "cell_type": "code",
      "metadata": {
        "id": "G2vg6tQP9-kr"
      },
      "source": [
        ""
      ],
      "execution_count": 34,
      "outputs": []
    }
  ]
}