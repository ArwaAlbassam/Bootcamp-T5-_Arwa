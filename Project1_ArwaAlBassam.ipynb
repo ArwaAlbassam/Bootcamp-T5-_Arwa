{
  "nbformat": 4,
  "nbformat_minor": 0,
  "metadata": {
    "colab": {
      "name": "Untitled10.ipynb",
      "provenance": [],
      "collapsed_sections": [],
      "authorship_tag": "ABX9TyNBB4hiIlCyMHVn4Zjuevwc",
      "include_colab_link": true
    },
    "kernelspec": {
      "name": "python3",
      "display_name": "Python 3"
    },
    "language_info": {
      "name": "python"
    }
  },
  "cells": [
    {
      "cell_type": "markdown",
      "metadata": {
        "id": "view-in-github",
        "colab_type": "text"
      },
      "source": [
        "<a href=\"https://colab.research.google.com/github/ArwaAlbassam/Bootcamp-T5-_Arwa/blob/main/Project1_ArwaAlBassam.ipynb\" target=\"_parent\"><img src=\"https://colab.research.google.com/assets/colab-badge.svg\" alt=\"Open In Colab\"/></a>"
      ]
    },
    {
      "cell_type": "markdown",
      "metadata": {
        "id": "rFl4g7ZJRZ2n"
      },
      "source": [
        "## **Find the stations most crowded to set up the centers of COVID-19 vaccine**"
      ]
    },
    {
      "cell_type": "markdown",
      "metadata": {
        "id": "u0mIAv3Pyp_g"
      },
      "source": [
        "# **Import packages**"
      ]
    },
    {
      "cell_type": "code",
      "metadata": {
        "id": "o2vWjFKFzDNV"
      },
      "source": [
        "import pandas as pd\n",
        "import numpy as np\n",
        "import datetime\n",
        "import matplotlib.pyplot as plt\n",
        "%matplotlib inline\n",
        "import seaborn as sns"
      ],
      "execution_count": 14,
      "outputs": []
    },
    {
      "cell_type": "markdown",
      "metadata": {
        "id": "BACI2ajdzIvQ"
      },
      "source": [
        "# **Load dataset**"
      ]
    },
    {
      "cell_type": "code",
      "metadata": {
        "id": "OSs5XlctzPjV"
      },
      "source": [
        "def get_data(week_nums):\n",
        "    url = \"http://web.mta.info/developers/data/nyct/turnstile/turnstile_{}.txt\"\n",
        "    dfs = []\n",
        "    for week_num in week_nums:\n",
        "        file_url = url.format(week_num)\n",
        "        dfs.append(pd.read_csv(file_url))\n",
        "    return pd.concat(dfs)\n",
        "        \n",
        "week_nums = [210605, 210612, 210619, 210626, 210703, 210710, 210717, 210724, 210731, 210807, 210814, 210821, 210828, 210904]\n",
        "turnstiles_df = get_data(week_nums)"
      ],
      "execution_count": 2,
      "outputs": []
    },
    {
      "cell_type": "code",
      "metadata": {
        "colab": {
          "base_uri": "https://localhost:8080/",
          "height": 355
        },
        "id": "PQWMVhcbzk85",
        "outputId": "cc4de8cc-e937-41c2-acda-cab38057b41d"
      },
      "source": [
        "turnstiles_df.head(10)"
      ],
      "execution_count": 3,
      "outputs": [
        {
          "output_type": "execute_result",
          "data": {
            "text/html": [
              "<div>\n",
              "<style scoped>\n",
              "    .dataframe tbody tr th:only-of-type {\n",
              "        vertical-align: middle;\n",
              "    }\n",
              "\n",
              "    .dataframe tbody tr th {\n",
              "        vertical-align: top;\n",
              "    }\n",
              "\n",
              "    .dataframe thead th {\n",
              "        text-align: right;\n",
              "    }\n",
              "</style>\n",
              "<table border=\"1\" class=\"dataframe\">\n",
              "  <thead>\n",
              "    <tr style=\"text-align: right;\">\n",
              "      <th></th>\n",
              "      <th>C/A</th>\n",
              "      <th>UNIT</th>\n",
              "      <th>SCP</th>\n",
              "      <th>STATION</th>\n",
              "      <th>LINENAME</th>\n",
              "      <th>DIVISION</th>\n",
              "      <th>DATE</th>\n",
              "      <th>TIME</th>\n",
              "      <th>DESC</th>\n",
              "      <th>ENTRIES</th>\n",
              "      <th>EXITS</th>\n",
              "    </tr>\n",
              "  </thead>\n",
              "  <tbody>\n",
              "    <tr>\n",
              "      <th>0</th>\n",
              "      <td>A002</td>\n",
              "      <td>R051</td>\n",
              "      <td>02-00-00</td>\n",
              "      <td>59 ST</td>\n",
              "      <td>NQR456W</td>\n",
              "      <td>BMT</td>\n",
              "      <td>05/29/2021</td>\n",
              "      <td>00:00:00</td>\n",
              "      <td>REGULAR</td>\n",
              "      <td>7578734</td>\n",
              "      <td>2590325</td>\n",
              "    </tr>\n",
              "    <tr>\n",
              "      <th>1</th>\n",
              "      <td>A002</td>\n",
              "      <td>R051</td>\n",
              "      <td>02-00-00</td>\n",
              "      <td>59 ST</td>\n",
              "      <td>NQR456W</td>\n",
              "      <td>BMT</td>\n",
              "      <td>05/29/2021</td>\n",
              "      <td>04:00:00</td>\n",
              "      <td>REGULAR</td>\n",
              "      <td>7578740</td>\n",
              "      <td>2590327</td>\n",
              "    </tr>\n",
              "    <tr>\n",
              "      <th>2</th>\n",
              "      <td>A002</td>\n",
              "      <td>R051</td>\n",
              "      <td>02-00-00</td>\n",
              "      <td>59 ST</td>\n",
              "      <td>NQR456W</td>\n",
              "      <td>BMT</td>\n",
              "      <td>05/29/2021</td>\n",
              "      <td>08:00:00</td>\n",
              "      <td>REGULAR</td>\n",
              "      <td>7578749</td>\n",
              "      <td>2590340</td>\n",
              "    </tr>\n",
              "    <tr>\n",
              "      <th>3</th>\n",
              "      <td>A002</td>\n",
              "      <td>R051</td>\n",
              "      <td>02-00-00</td>\n",
              "      <td>59 ST</td>\n",
              "      <td>NQR456W</td>\n",
              "      <td>BMT</td>\n",
              "      <td>05/29/2021</td>\n",
              "      <td>12:00:00</td>\n",
              "      <td>REGULAR</td>\n",
              "      <td>7578789</td>\n",
              "      <td>2590386</td>\n",
              "    </tr>\n",
              "    <tr>\n",
              "      <th>4</th>\n",
              "      <td>A002</td>\n",
              "      <td>R051</td>\n",
              "      <td>02-00-00</td>\n",
              "      <td>59 ST</td>\n",
              "      <td>NQR456W</td>\n",
              "      <td>BMT</td>\n",
              "      <td>05/29/2021</td>\n",
              "      <td>16:00:00</td>\n",
              "      <td>REGULAR</td>\n",
              "      <td>7578897</td>\n",
              "      <td>2590418</td>\n",
              "    </tr>\n",
              "    <tr>\n",
              "      <th>5</th>\n",
              "      <td>A002</td>\n",
              "      <td>R051</td>\n",
              "      <td>02-00-00</td>\n",
              "      <td>59 ST</td>\n",
              "      <td>NQR456W</td>\n",
              "      <td>BMT</td>\n",
              "      <td>05/29/2021</td>\n",
              "      <td>20:00:00</td>\n",
              "      <td>REGULAR</td>\n",
              "      <td>7579021</td>\n",
              "      <td>2590439</td>\n",
              "    </tr>\n",
              "    <tr>\n",
              "      <th>6</th>\n",
              "      <td>A002</td>\n",
              "      <td>R051</td>\n",
              "      <td>02-00-00</td>\n",
              "      <td>59 ST</td>\n",
              "      <td>NQR456W</td>\n",
              "      <td>BMT</td>\n",
              "      <td>05/30/2021</td>\n",
              "      <td>00:00:00</td>\n",
              "      <td>REGULAR</td>\n",
              "      <td>7579078</td>\n",
              "      <td>2590451</td>\n",
              "    </tr>\n",
              "    <tr>\n",
              "      <th>7</th>\n",
              "      <td>A002</td>\n",
              "      <td>R051</td>\n",
              "      <td>02-00-00</td>\n",
              "      <td>59 ST</td>\n",
              "      <td>NQR456W</td>\n",
              "      <td>BMT</td>\n",
              "      <td>05/30/2021</td>\n",
              "      <td>04:00:00</td>\n",
              "      <td>REGULAR</td>\n",
              "      <td>7579084</td>\n",
              "      <td>2590452</td>\n",
              "    </tr>\n",
              "    <tr>\n",
              "      <th>8</th>\n",
              "      <td>A002</td>\n",
              "      <td>R051</td>\n",
              "      <td>02-00-00</td>\n",
              "      <td>59 ST</td>\n",
              "      <td>NQR456W</td>\n",
              "      <td>BMT</td>\n",
              "      <td>05/30/2021</td>\n",
              "      <td>08:00:00</td>\n",
              "      <td>REGULAR</td>\n",
              "      <td>7579085</td>\n",
              "      <td>2590454</td>\n",
              "    </tr>\n",
              "    <tr>\n",
              "      <th>9</th>\n",
              "      <td>A002</td>\n",
              "      <td>R051</td>\n",
              "      <td>02-00-00</td>\n",
              "      <td>59 ST</td>\n",
              "      <td>NQR456W</td>\n",
              "      <td>BMT</td>\n",
              "      <td>05/30/2021</td>\n",
              "      <td>12:00:00</td>\n",
              "      <td>REGULAR</td>\n",
              "      <td>7579093</td>\n",
              "      <td>2590493</td>\n",
              "    </tr>\n",
              "  </tbody>\n",
              "</table>\n",
              "</div>"
            ],
            "text/plain": [
              "    C/A  ... EXITS                                                               \n",
              "0  A002  ...                                            2590325                  \n",
              "1  A002  ...                                            2590327                  \n",
              "2  A002  ...                                            2590340                  \n",
              "3  A002  ...                                            2590386                  \n",
              "4  A002  ...                                            2590418                  \n",
              "5  A002  ...                                            2590439                  \n",
              "6  A002  ...                                            2590451                  \n",
              "7  A002  ...                                            2590452                  \n",
              "8  A002  ...                                            2590454                  \n",
              "9  A002  ...                                            2590493                  \n",
              "\n",
              "[10 rows x 11 columns]"
            ]
          },
          "metadata": {},
          "execution_count": 3
        }
      ]
    },
    {
      "cell_type": "code",
      "metadata": {
        "colab": {
          "base_uri": "https://localhost:8080/"
        },
        "id": "60PZd6clznvi",
        "outputId": "94ecc33e-82f4-4bf1-b088-d9907f137470"
      },
      "source": [
        "turnstiles_df.info()"
      ],
      "execution_count": 20,
      "outputs": [
        {
          "output_type": "stream",
          "name": "stdout",
          "text": [
            "<class 'pandas.core.frame.DataFrame'>\n",
            "Int64Index: 2749154 entries, 0 to 209734\n",
            "Data columns (total 11 columns):\n",
            " #   Column    Dtype \n",
            "---  ------    ----- \n",
            " 0   C/A       object\n",
            " 1   UNIT      object\n",
            " 2   SCP       object\n",
            " 3   STATION   object\n",
            " 4   LINENAME  object\n",
            " 5   DIVISION  object\n",
            " 6   DATE      object\n",
            " 7   TIME      object\n",
            " 8   DESC      object\n",
            " 9   ENTRIES   int64 \n",
            " 10  EXITS     int64 \n",
            "dtypes: int64(2), object(9)\n",
            "memory usage: 251.7+ MB\n"
          ]
        }
      ]
    },
    {
      "cell_type": "code",
      "metadata": {
        "colab": {
          "base_uri": "https://localhost:8080/",
          "height": 294
        },
        "id": "-U1vikYNzqq_",
        "outputId": "845391d9-057f-4f87-bb5e-3b1b37cbc010"
      },
      "source": [
        "turnstiles_df.describe()"
      ],
      "execution_count": 21,
      "outputs": [
        {
          "output_type": "execute_result",
          "data": {
            "text/html": [
              "<div>\n",
              "<style scoped>\n",
              "    .dataframe tbody tr th:only-of-type {\n",
              "        vertical-align: middle;\n",
              "    }\n",
              "\n",
              "    .dataframe tbody tr th {\n",
              "        vertical-align: top;\n",
              "    }\n",
              "\n",
              "    .dataframe thead th {\n",
              "        text-align: right;\n",
              "    }\n",
              "</style>\n",
              "<table border=\"1\" class=\"dataframe\">\n",
              "  <thead>\n",
              "    <tr style=\"text-align: right;\">\n",
              "      <th></th>\n",
              "      <th>ENTRIES</th>\n",
              "      <th>EXITS</th>\n",
              "    </tr>\n",
              "  </thead>\n",
              "  <tbody>\n",
              "    <tr>\n",
              "      <th>count</th>\n",
              "      <td>2.749154e+06</td>\n",
              "      <td>2.749154e+06</td>\n",
              "    </tr>\n",
              "    <tr>\n",
              "      <th>mean</th>\n",
              "      <td>4.178346e+07</td>\n",
              "      <td>3.339163e+07</td>\n",
              "    </tr>\n",
              "    <tr>\n",
              "      <th>std</th>\n",
              "      <td>2.190244e+08</td>\n",
              "      <td>1.922281e+08</td>\n",
              "    </tr>\n",
              "    <tr>\n",
              "      <th>min</th>\n",
              "      <td>0.000000e+00</td>\n",
              "      <td>0.000000e+00</td>\n",
              "    </tr>\n",
              "    <tr>\n",
              "      <th>25%</th>\n",
              "      <td>2.170572e+05</td>\n",
              "      <td>1.003570e+05</td>\n",
              "    </tr>\n",
              "    <tr>\n",
              "      <th>50%</th>\n",
              "      <td>1.405376e+06</td>\n",
              "      <td>8.626650e+05</td>\n",
              "    </tr>\n",
              "    <tr>\n",
              "      <th>75%</th>\n",
              "      <td>5.992651e+06</td>\n",
              "      <td>3.971806e+06</td>\n",
              "    </tr>\n",
              "    <tr>\n",
              "      <th>max</th>\n",
              "      <td>2.147417e+09</td>\n",
              "      <td>2.133797e+09</td>\n",
              "    </tr>\n",
              "  </tbody>\n",
              "</table>\n",
              "</div>"
            ],
            "text/plain": [
              "            ENTRIES         EXITS\n",
              "count  2.749154e+06  2.749154e+06\n",
              "mean   4.178346e+07  3.339163e+07\n",
              "std    2.190244e+08  1.922281e+08\n",
              "min    0.000000e+00  0.000000e+00\n",
              "25%    2.170572e+05  1.003570e+05\n",
              "50%    1.405376e+06  8.626650e+05\n",
              "75%    5.992651e+06  3.971806e+06\n",
              "max    2.147417e+09  2.133797e+09"
            ]
          },
          "metadata": {},
          "execution_count": 21
        }
      ]
    },
    {
      "cell_type": "code",
      "metadata": {
        "colab": {
          "base_uri": "https://localhost:8080/"
        },
        "id": "SxbuY0ll3-wv",
        "outputId": "6b928ce7-3535-4ed6-81b5-9c5904b02422"
      },
      "source": [
        "turnstiles_df.columns"
      ],
      "execution_count": 22,
      "outputs": [
        {
          "output_type": "execute_result",
          "data": {
            "text/plain": [
              "Index(['C/A', 'UNIT', 'SCP', 'STATION', 'LINENAME', 'DIVISION', 'DATE', 'TIME',\n",
              "       'DESC', 'ENTRIES', 'EXITS'],\n",
              "      dtype='object')"
            ]
          },
          "metadata": {},
          "execution_count": 22
        }
      ]
    },
    {
      "cell_type": "code",
      "metadata": {
        "id": "e-M5JUkD4Bw4"
      },
      "source": [
        "turnstile = ['C/A',\n",
        "       'UNIT',\n",
        "       'SCP',\n",
        "       'STATION',\n",
        "       'LINENAME']"
      ],
      "execution_count": 23,
      "outputs": []
    },
    {
      "cell_type": "markdown",
      "metadata": {
        "id": "WnUqoRiu3xhV"
      },
      "source": [
        "# **Pre-Processing**"
      ]
    },
    {
      "cell_type": "markdown",
      "metadata": {
        "id": "Lbn7QlM4UpoB"
      },
      "source": [
        "Removing whitespace"
      ]
    },
    {
      "cell_type": "code",
      "metadata": {
        "id": "uYG4_9ii360G"
      },
      "source": [
        "turnstiles_df.columns = [column.strip() for column in turnstiles_df.columns]"
      ],
      "execution_count": 24,
      "outputs": []
    },
    {
      "cell_type": "markdown",
      "metadata": {
        "id": "raggAVLMTqK0"
      },
      "source": [
        "Missing values:"
      ]
    },
    {
      "cell_type": "code",
      "metadata": {
        "colab": {
          "base_uri": "https://localhost:8080/",
          "height": 414
        },
        "id": "XOVgMdKZztvk",
        "outputId": "94f94a1f-dfaf-4f4d-a749-7e835166b44c"
      },
      "source": [
        "turnstiles_df.isna()"
      ],
      "execution_count": 25,
      "outputs": [
        {
          "output_type": "execute_result",
          "data": {
            "text/html": [
              "<div>\n",
              "<style scoped>\n",
              "    .dataframe tbody tr th:only-of-type {\n",
              "        vertical-align: middle;\n",
              "    }\n",
              "\n",
              "    .dataframe tbody tr th {\n",
              "        vertical-align: top;\n",
              "    }\n",
              "\n",
              "    .dataframe thead th {\n",
              "        text-align: right;\n",
              "    }\n",
              "</style>\n",
              "<table border=\"1\" class=\"dataframe\">\n",
              "  <thead>\n",
              "    <tr style=\"text-align: right;\">\n",
              "      <th></th>\n",
              "      <th>C/A</th>\n",
              "      <th>UNIT</th>\n",
              "      <th>SCP</th>\n",
              "      <th>STATION</th>\n",
              "      <th>LINENAME</th>\n",
              "      <th>DIVISION</th>\n",
              "      <th>DATE</th>\n",
              "      <th>TIME</th>\n",
              "      <th>DESC</th>\n",
              "      <th>ENTRIES</th>\n",
              "      <th>EXITS</th>\n",
              "    </tr>\n",
              "  </thead>\n",
              "  <tbody>\n",
              "    <tr>\n",
              "      <th>0</th>\n",
              "      <td>False</td>\n",
              "      <td>False</td>\n",
              "      <td>False</td>\n",
              "      <td>False</td>\n",
              "      <td>False</td>\n",
              "      <td>False</td>\n",
              "      <td>False</td>\n",
              "      <td>False</td>\n",
              "      <td>False</td>\n",
              "      <td>False</td>\n",
              "      <td>False</td>\n",
              "    </tr>\n",
              "    <tr>\n",
              "      <th>1</th>\n",
              "      <td>False</td>\n",
              "      <td>False</td>\n",
              "      <td>False</td>\n",
              "      <td>False</td>\n",
              "      <td>False</td>\n",
              "      <td>False</td>\n",
              "      <td>False</td>\n",
              "      <td>False</td>\n",
              "      <td>False</td>\n",
              "      <td>False</td>\n",
              "      <td>False</td>\n",
              "    </tr>\n",
              "    <tr>\n",
              "      <th>2</th>\n",
              "      <td>False</td>\n",
              "      <td>False</td>\n",
              "      <td>False</td>\n",
              "      <td>False</td>\n",
              "      <td>False</td>\n",
              "      <td>False</td>\n",
              "      <td>False</td>\n",
              "      <td>False</td>\n",
              "      <td>False</td>\n",
              "      <td>False</td>\n",
              "      <td>False</td>\n",
              "    </tr>\n",
              "    <tr>\n",
              "      <th>3</th>\n",
              "      <td>False</td>\n",
              "      <td>False</td>\n",
              "      <td>False</td>\n",
              "      <td>False</td>\n",
              "      <td>False</td>\n",
              "      <td>False</td>\n",
              "      <td>False</td>\n",
              "      <td>False</td>\n",
              "      <td>False</td>\n",
              "      <td>False</td>\n",
              "      <td>False</td>\n",
              "    </tr>\n",
              "    <tr>\n",
              "      <th>4</th>\n",
              "      <td>False</td>\n",
              "      <td>False</td>\n",
              "      <td>False</td>\n",
              "      <td>False</td>\n",
              "      <td>False</td>\n",
              "      <td>False</td>\n",
              "      <td>False</td>\n",
              "      <td>False</td>\n",
              "      <td>False</td>\n",
              "      <td>False</td>\n",
              "      <td>False</td>\n",
              "    </tr>\n",
              "    <tr>\n",
              "      <th>...</th>\n",
              "      <td>...</td>\n",
              "      <td>...</td>\n",
              "      <td>...</td>\n",
              "      <td>...</td>\n",
              "      <td>...</td>\n",
              "      <td>...</td>\n",
              "      <td>...</td>\n",
              "      <td>...</td>\n",
              "      <td>...</td>\n",
              "      <td>...</td>\n",
              "      <td>...</td>\n",
              "    </tr>\n",
              "    <tr>\n",
              "      <th>209730</th>\n",
              "      <td>False</td>\n",
              "      <td>False</td>\n",
              "      <td>False</td>\n",
              "      <td>False</td>\n",
              "      <td>False</td>\n",
              "      <td>False</td>\n",
              "      <td>False</td>\n",
              "      <td>False</td>\n",
              "      <td>False</td>\n",
              "      <td>False</td>\n",
              "      <td>False</td>\n",
              "    </tr>\n",
              "    <tr>\n",
              "      <th>209731</th>\n",
              "      <td>False</td>\n",
              "      <td>False</td>\n",
              "      <td>False</td>\n",
              "      <td>False</td>\n",
              "      <td>False</td>\n",
              "      <td>False</td>\n",
              "      <td>False</td>\n",
              "      <td>False</td>\n",
              "      <td>False</td>\n",
              "      <td>False</td>\n",
              "      <td>False</td>\n",
              "    </tr>\n",
              "    <tr>\n",
              "      <th>209732</th>\n",
              "      <td>False</td>\n",
              "      <td>False</td>\n",
              "      <td>False</td>\n",
              "      <td>False</td>\n",
              "      <td>False</td>\n",
              "      <td>False</td>\n",
              "      <td>False</td>\n",
              "      <td>False</td>\n",
              "      <td>False</td>\n",
              "      <td>False</td>\n",
              "      <td>False</td>\n",
              "    </tr>\n",
              "    <tr>\n",
              "      <th>209733</th>\n",
              "      <td>False</td>\n",
              "      <td>False</td>\n",
              "      <td>False</td>\n",
              "      <td>False</td>\n",
              "      <td>False</td>\n",
              "      <td>False</td>\n",
              "      <td>False</td>\n",
              "      <td>False</td>\n",
              "      <td>False</td>\n",
              "      <td>False</td>\n",
              "      <td>False</td>\n",
              "    </tr>\n",
              "    <tr>\n",
              "      <th>209734</th>\n",
              "      <td>False</td>\n",
              "      <td>False</td>\n",
              "      <td>False</td>\n",
              "      <td>False</td>\n",
              "      <td>False</td>\n",
              "      <td>False</td>\n",
              "      <td>False</td>\n",
              "      <td>False</td>\n",
              "      <td>False</td>\n",
              "      <td>False</td>\n",
              "      <td>False</td>\n",
              "    </tr>\n",
              "  </tbody>\n",
              "</table>\n",
              "<p>2749154 rows × 11 columns</p>\n",
              "</div>"
            ],
            "text/plain": [
              "          C/A   UNIT    SCP  STATION  ...   TIME   DESC  ENTRIES  EXITS\n",
              "0       False  False  False    False  ...  False  False    False  False\n",
              "1       False  False  False    False  ...  False  False    False  False\n",
              "2       False  False  False    False  ...  False  False    False  False\n",
              "3       False  False  False    False  ...  False  False    False  False\n",
              "4       False  False  False    False  ...  False  False    False  False\n",
              "...       ...    ...    ...      ...  ...    ...    ...      ...    ...\n",
              "209730  False  False  False    False  ...  False  False    False  False\n",
              "209731  False  False  False    False  ...  False  False    False  False\n",
              "209732  False  False  False    False  ...  False  False    False  False\n",
              "209733  False  False  False    False  ...  False  False    False  False\n",
              "209734  False  False  False    False  ...  False  False    False  False\n",
              "\n",
              "[2749154 rows x 11 columns]"
            ]
          },
          "metadata": {},
          "execution_count": 25
        }
      ]
    },
    {
      "cell_type": "code",
      "metadata": {
        "colab": {
          "base_uri": "https://localhost:8080/"
        },
        "id": "ZJgyLRoATf61",
        "outputId": "4e7ac7c1-8d8e-46b3-9926-b6f56ef0306c"
      },
      "source": [
        "print(\"Check if there are any missing values in Dataset \")\n",
        "print(turnstiles_df.isnull().sum())"
      ],
      "execution_count": 26,
      "outputs": [
        {
          "output_type": "stream",
          "name": "stdout",
          "text": [
            "Check if there are any missing values in Dataset \n",
            "C/A         0\n",
            "UNIT        0\n",
            "SCP         0\n",
            "STATION     0\n",
            "LINENAME    0\n",
            "DIVISION    0\n",
            "DATE        0\n",
            "TIME        0\n",
            "DESC        0\n",
            "ENTRIES     0\n",
            "EXITS       0\n",
            "dtype: int64\n"
          ]
        }
      ]
    },
    {
      "cell_type": "markdown",
      "metadata": {
        "id": "1k7tVAeyTtG5"
      },
      "source": [
        "Duplicate:"
      ]
    },
    {
      "cell_type": "code",
      "metadata": {
        "colab": {
          "base_uri": "https://localhost:8080/"
        },
        "id": "zZjsscs9TwxL",
        "outputId": "6023be07-aa11-4b22-9954-68e130dc127c"
      },
      "source": [
        "print(\"Check if there are any duplicated values in dataset: \\n\")\n",
        "dubl=turnstiles_df.duplicated()\n",
        "print('number of duplicate = %d\\n'%(dubl.sum()))"
      ],
      "execution_count": 27,
      "outputs": [
        {
          "output_type": "stream",
          "name": "stdout",
          "text": [
            "Check if there are any duplicated values in dataset: \n",
            "\n",
            "number of duplicate = 0\n",
            "\n"
          ]
        }
      ]
    },
    {
      "cell_type": "markdown",
      "metadata": {
        "id": "fyPnefLyUBH-"
      },
      "source": [
        ""
      ]
    },
    {
      "cell_type": "markdown",
      "metadata": {
        "id": "D6eKABVC4Hhm"
      },
      "source": [
        "**Calculate the Traffic**"
      ]
    },
    {
      "cell_type": "markdown",
      "metadata": {
        "id": "0P_lbYtSVAKg"
      },
      "source": [
        "Derived DATETIME column from 'DATE' and 'TIME' columns:"
      ]
    },
    {
      "cell_type": "code",
      "metadata": {
        "colab": {
          "base_uri": "https://localhost:8080/",
          "height": 414
        },
        "id": "9mdDgLBfzwXM",
        "outputId": "8fdd66f1-be2f-4f13-d63b-4159511eb25a"
      },
      "source": [
        "turnstiles_df['DATETIME'] =pd.to_datetime(turnstiles_df.DATE +' '+ turnstiles_df.TIME, \n",
        "                    format='%m/%d/%Y %H:%M:%S')\n",
        "\n",
        "turnstiles_df"
      ],
      "execution_count": 28,
      "outputs": [
        {
          "output_type": "execute_result",
          "data": {
            "text/html": [
              "<div>\n",
              "<style scoped>\n",
              "    .dataframe tbody tr th:only-of-type {\n",
              "        vertical-align: middle;\n",
              "    }\n",
              "\n",
              "    .dataframe tbody tr th {\n",
              "        vertical-align: top;\n",
              "    }\n",
              "\n",
              "    .dataframe thead th {\n",
              "        text-align: right;\n",
              "    }\n",
              "</style>\n",
              "<table border=\"1\" class=\"dataframe\">\n",
              "  <thead>\n",
              "    <tr style=\"text-align: right;\">\n",
              "      <th></th>\n",
              "      <th>C/A</th>\n",
              "      <th>UNIT</th>\n",
              "      <th>SCP</th>\n",
              "      <th>STATION</th>\n",
              "      <th>LINENAME</th>\n",
              "      <th>DIVISION</th>\n",
              "      <th>DATE</th>\n",
              "      <th>TIME</th>\n",
              "      <th>DESC</th>\n",
              "      <th>ENTRIES</th>\n",
              "      <th>EXITS</th>\n",
              "      <th>DATETIME</th>\n",
              "    </tr>\n",
              "  </thead>\n",
              "  <tbody>\n",
              "    <tr>\n",
              "      <th>0</th>\n",
              "      <td>A002</td>\n",
              "      <td>R051</td>\n",
              "      <td>02-00-00</td>\n",
              "      <td>59 ST</td>\n",
              "      <td>NQR456W</td>\n",
              "      <td>BMT</td>\n",
              "      <td>05/29/2021</td>\n",
              "      <td>00:00:00</td>\n",
              "      <td>REGULAR</td>\n",
              "      <td>7578734</td>\n",
              "      <td>2590325</td>\n",
              "      <td>2021-05-29 00:00:00</td>\n",
              "    </tr>\n",
              "    <tr>\n",
              "      <th>1</th>\n",
              "      <td>A002</td>\n",
              "      <td>R051</td>\n",
              "      <td>02-00-00</td>\n",
              "      <td>59 ST</td>\n",
              "      <td>NQR456W</td>\n",
              "      <td>BMT</td>\n",
              "      <td>05/29/2021</td>\n",
              "      <td>04:00:00</td>\n",
              "      <td>REGULAR</td>\n",
              "      <td>7578740</td>\n",
              "      <td>2590327</td>\n",
              "      <td>2021-05-29 04:00:00</td>\n",
              "    </tr>\n",
              "    <tr>\n",
              "      <th>2</th>\n",
              "      <td>A002</td>\n",
              "      <td>R051</td>\n",
              "      <td>02-00-00</td>\n",
              "      <td>59 ST</td>\n",
              "      <td>NQR456W</td>\n",
              "      <td>BMT</td>\n",
              "      <td>05/29/2021</td>\n",
              "      <td>08:00:00</td>\n",
              "      <td>REGULAR</td>\n",
              "      <td>7578749</td>\n",
              "      <td>2590340</td>\n",
              "      <td>2021-05-29 08:00:00</td>\n",
              "    </tr>\n",
              "    <tr>\n",
              "      <th>3</th>\n",
              "      <td>A002</td>\n",
              "      <td>R051</td>\n",
              "      <td>02-00-00</td>\n",
              "      <td>59 ST</td>\n",
              "      <td>NQR456W</td>\n",
              "      <td>BMT</td>\n",
              "      <td>05/29/2021</td>\n",
              "      <td>12:00:00</td>\n",
              "      <td>REGULAR</td>\n",
              "      <td>7578789</td>\n",
              "      <td>2590386</td>\n",
              "      <td>2021-05-29 12:00:00</td>\n",
              "    </tr>\n",
              "    <tr>\n",
              "      <th>4</th>\n",
              "      <td>A002</td>\n",
              "      <td>R051</td>\n",
              "      <td>02-00-00</td>\n",
              "      <td>59 ST</td>\n",
              "      <td>NQR456W</td>\n",
              "      <td>BMT</td>\n",
              "      <td>05/29/2021</td>\n",
              "      <td>16:00:00</td>\n",
              "      <td>REGULAR</td>\n",
              "      <td>7578897</td>\n",
              "      <td>2590418</td>\n",
              "      <td>2021-05-29 16:00:00</td>\n",
              "    </tr>\n",
              "    <tr>\n",
              "      <th>...</th>\n",
              "      <td>...</td>\n",
              "      <td>...</td>\n",
              "      <td>...</td>\n",
              "      <td>...</td>\n",
              "      <td>...</td>\n",
              "      <td>...</td>\n",
              "      <td>...</td>\n",
              "      <td>...</td>\n",
              "      <td>...</td>\n",
              "      <td>...</td>\n",
              "      <td>...</td>\n",
              "      <td>...</td>\n",
              "    </tr>\n",
              "    <tr>\n",
              "      <th>209730</th>\n",
              "      <td>TRAM2</td>\n",
              "      <td>R469</td>\n",
              "      <td>00-05-01</td>\n",
              "      <td>RIT-ROOSEVELT</td>\n",
              "      <td>R</td>\n",
              "      <td>RIT</td>\n",
              "      <td>09/03/2021</td>\n",
              "      <td>05:00:00</td>\n",
              "      <td>REGULAR</td>\n",
              "      <td>5554</td>\n",
              "      <td>638</td>\n",
              "      <td>2021-09-03 05:00:00</td>\n",
              "    </tr>\n",
              "    <tr>\n",
              "      <th>209731</th>\n",
              "      <td>TRAM2</td>\n",
              "      <td>R469</td>\n",
              "      <td>00-05-01</td>\n",
              "      <td>RIT-ROOSEVELT</td>\n",
              "      <td>R</td>\n",
              "      <td>RIT</td>\n",
              "      <td>09/03/2021</td>\n",
              "      <td>09:00:00</td>\n",
              "      <td>REGULAR</td>\n",
              "      <td>5554</td>\n",
              "      <td>638</td>\n",
              "      <td>2021-09-03 09:00:00</td>\n",
              "    </tr>\n",
              "    <tr>\n",
              "      <th>209732</th>\n",
              "      <td>TRAM2</td>\n",
              "      <td>R469</td>\n",
              "      <td>00-05-01</td>\n",
              "      <td>RIT-ROOSEVELT</td>\n",
              "      <td>R</td>\n",
              "      <td>RIT</td>\n",
              "      <td>09/03/2021</td>\n",
              "      <td>13:00:00</td>\n",
              "      <td>REGULAR</td>\n",
              "      <td>5554</td>\n",
              "      <td>638</td>\n",
              "      <td>2021-09-03 13:00:00</td>\n",
              "    </tr>\n",
              "    <tr>\n",
              "      <th>209733</th>\n",
              "      <td>TRAM2</td>\n",
              "      <td>R469</td>\n",
              "      <td>00-05-01</td>\n",
              "      <td>RIT-ROOSEVELT</td>\n",
              "      <td>R</td>\n",
              "      <td>RIT</td>\n",
              "      <td>09/03/2021</td>\n",
              "      <td>17:00:00</td>\n",
              "      <td>REGULAR</td>\n",
              "      <td>5554</td>\n",
              "      <td>638</td>\n",
              "      <td>2021-09-03 17:00:00</td>\n",
              "    </tr>\n",
              "    <tr>\n",
              "      <th>209734</th>\n",
              "      <td>TRAM2</td>\n",
              "      <td>R469</td>\n",
              "      <td>00-05-01</td>\n",
              "      <td>RIT-ROOSEVELT</td>\n",
              "      <td>R</td>\n",
              "      <td>RIT</td>\n",
              "      <td>09/03/2021</td>\n",
              "      <td>21:00:00</td>\n",
              "      <td>REGULAR</td>\n",
              "      <td>5554</td>\n",
              "      <td>639</td>\n",
              "      <td>2021-09-03 21:00:00</td>\n",
              "    </tr>\n",
              "  </tbody>\n",
              "</table>\n",
              "<p>2749154 rows × 12 columns</p>\n",
              "</div>"
            ],
            "text/plain": [
              "          C/A  UNIT       SCP  ...  ENTRIES    EXITS            DATETIME\n",
              "0        A002  R051  02-00-00  ...  7578734  2590325 2021-05-29 00:00:00\n",
              "1        A002  R051  02-00-00  ...  7578740  2590327 2021-05-29 04:00:00\n",
              "2        A002  R051  02-00-00  ...  7578749  2590340 2021-05-29 08:00:00\n",
              "3        A002  R051  02-00-00  ...  7578789  2590386 2021-05-29 12:00:00\n",
              "4        A002  R051  02-00-00  ...  7578897  2590418 2021-05-29 16:00:00\n",
              "...       ...   ...       ...  ...      ...      ...                 ...\n",
              "209730  TRAM2  R469  00-05-01  ...     5554      638 2021-09-03 05:00:00\n",
              "209731  TRAM2  R469  00-05-01  ...     5554      638 2021-09-03 09:00:00\n",
              "209732  TRAM2  R469  00-05-01  ...     5554      638 2021-09-03 13:00:00\n",
              "209733  TRAM2  R469  00-05-01  ...     5554      638 2021-09-03 17:00:00\n",
              "209734  TRAM2  R469  00-05-01  ...     5554      639 2021-09-03 21:00:00\n",
              "\n",
              "[2749154 rows x 12 columns]"
            ]
          },
          "metadata": {},
          "execution_count": 28
        }
      ]
    },
    {
      "cell_type": "markdown",
      "metadata": {
        "id": "auQlowhOVWtz"
      },
      "source": [
        "Change dtypes of ENTRIES and EXITS columns"
      ]
    },
    {
      "cell_type": "code",
      "metadata": {
        "id": "F3xy7D4vVjbM"
      },
      "source": [
        "turnstiles_df['ENTRIES'] = turnstiles_df.ENTRIES.astype(\"int\")\n",
        "turnstiles_df['EXITS'] = turnstiles_df.EXITS.astype(\"int\")"
      ],
      "execution_count": 29,
      "outputs": []
    },
    {
      "cell_type": "markdown",
      "metadata": {
        "id": "quYtF1bHVwzj"
      },
      "source": [
        "Remove non-REGULAR values from DESC column"
      ]
    },
    {
      "cell_type": "code",
      "metadata": {
        "id": "KIRzkoLvV0V-"
      },
      "source": [
        "turnstiles_df = turnstiles_df.drop(turnstiles_df.loc[turnstiles_df.DESC != 'REGULAR'].index)"
      ],
      "execution_count": 30,
      "outputs": []
    },
    {
      "cell_type": "code",
      "metadata": {
        "colab": {
          "base_uri": "https://localhost:8080/",
          "height": 414
        },
        "id": "FgfdW6PKWM4E",
        "outputId": "c3eda078-433a-43c0-f781-11c2c223b25f"
      },
      "source": [
        "turnstiles_df"
      ],
      "execution_count": 31,
      "outputs": [
        {
          "output_type": "execute_result",
          "data": {
            "text/html": [
              "<div>\n",
              "<style scoped>\n",
              "    .dataframe tbody tr th:only-of-type {\n",
              "        vertical-align: middle;\n",
              "    }\n",
              "\n",
              "    .dataframe tbody tr th {\n",
              "        vertical-align: top;\n",
              "    }\n",
              "\n",
              "    .dataframe thead th {\n",
              "        text-align: right;\n",
              "    }\n",
              "</style>\n",
              "<table border=\"1\" class=\"dataframe\">\n",
              "  <thead>\n",
              "    <tr style=\"text-align: right;\">\n",
              "      <th></th>\n",
              "      <th>C/A</th>\n",
              "      <th>UNIT</th>\n",
              "      <th>SCP</th>\n",
              "      <th>STATION</th>\n",
              "      <th>LINENAME</th>\n",
              "      <th>DIVISION</th>\n",
              "      <th>DATE</th>\n",
              "      <th>TIME</th>\n",
              "      <th>DESC</th>\n",
              "      <th>ENTRIES</th>\n",
              "      <th>EXITS</th>\n",
              "      <th>DATETIME</th>\n",
              "    </tr>\n",
              "  </thead>\n",
              "  <tbody>\n",
              "    <tr>\n",
              "      <th>0</th>\n",
              "      <td>A002</td>\n",
              "      <td>R051</td>\n",
              "      <td>02-00-00</td>\n",
              "      <td>59 ST</td>\n",
              "      <td>NQR456W</td>\n",
              "      <td>BMT</td>\n",
              "      <td>05/29/2021</td>\n",
              "      <td>00:00:00</td>\n",
              "      <td>REGULAR</td>\n",
              "      <td>7578734</td>\n",
              "      <td>2590325</td>\n",
              "      <td>2021-05-29 00:00:00</td>\n",
              "    </tr>\n",
              "    <tr>\n",
              "      <th>1</th>\n",
              "      <td>A002</td>\n",
              "      <td>R051</td>\n",
              "      <td>02-00-00</td>\n",
              "      <td>59 ST</td>\n",
              "      <td>NQR456W</td>\n",
              "      <td>BMT</td>\n",
              "      <td>05/29/2021</td>\n",
              "      <td>04:00:00</td>\n",
              "      <td>REGULAR</td>\n",
              "      <td>7578740</td>\n",
              "      <td>2590327</td>\n",
              "      <td>2021-05-29 04:00:00</td>\n",
              "    </tr>\n",
              "    <tr>\n",
              "      <th>2</th>\n",
              "      <td>A002</td>\n",
              "      <td>R051</td>\n",
              "      <td>02-00-00</td>\n",
              "      <td>59 ST</td>\n",
              "      <td>NQR456W</td>\n",
              "      <td>BMT</td>\n",
              "      <td>05/29/2021</td>\n",
              "      <td>08:00:00</td>\n",
              "      <td>REGULAR</td>\n",
              "      <td>7578749</td>\n",
              "      <td>2590340</td>\n",
              "      <td>2021-05-29 08:00:00</td>\n",
              "    </tr>\n",
              "    <tr>\n",
              "      <th>3</th>\n",
              "      <td>A002</td>\n",
              "      <td>R051</td>\n",
              "      <td>02-00-00</td>\n",
              "      <td>59 ST</td>\n",
              "      <td>NQR456W</td>\n",
              "      <td>BMT</td>\n",
              "      <td>05/29/2021</td>\n",
              "      <td>12:00:00</td>\n",
              "      <td>REGULAR</td>\n",
              "      <td>7578789</td>\n",
              "      <td>2590386</td>\n",
              "      <td>2021-05-29 12:00:00</td>\n",
              "    </tr>\n",
              "    <tr>\n",
              "      <th>4</th>\n",
              "      <td>A002</td>\n",
              "      <td>R051</td>\n",
              "      <td>02-00-00</td>\n",
              "      <td>59 ST</td>\n",
              "      <td>NQR456W</td>\n",
              "      <td>BMT</td>\n",
              "      <td>05/29/2021</td>\n",
              "      <td>16:00:00</td>\n",
              "      <td>REGULAR</td>\n",
              "      <td>7578897</td>\n",
              "      <td>2590418</td>\n",
              "      <td>2021-05-29 16:00:00</td>\n",
              "    </tr>\n",
              "    <tr>\n",
              "      <th>...</th>\n",
              "      <td>...</td>\n",
              "      <td>...</td>\n",
              "      <td>...</td>\n",
              "      <td>...</td>\n",
              "      <td>...</td>\n",
              "      <td>...</td>\n",
              "      <td>...</td>\n",
              "      <td>...</td>\n",
              "      <td>...</td>\n",
              "      <td>...</td>\n",
              "      <td>...</td>\n",
              "      <td>...</td>\n",
              "    </tr>\n",
              "    <tr>\n",
              "      <th>209730</th>\n",
              "      <td>TRAM2</td>\n",
              "      <td>R469</td>\n",
              "      <td>00-05-01</td>\n",
              "      <td>RIT-ROOSEVELT</td>\n",
              "      <td>R</td>\n",
              "      <td>RIT</td>\n",
              "      <td>09/03/2021</td>\n",
              "      <td>05:00:00</td>\n",
              "      <td>REGULAR</td>\n",
              "      <td>5554</td>\n",
              "      <td>638</td>\n",
              "      <td>2021-09-03 05:00:00</td>\n",
              "    </tr>\n",
              "    <tr>\n",
              "      <th>209731</th>\n",
              "      <td>TRAM2</td>\n",
              "      <td>R469</td>\n",
              "      <td>00-05-01</td>\n",
              "      <td>RIT-ROOSEVELT</td>\n",
              "      <td>R</td>\n",
              "      <td>RIT</td>\n",
              "      <td>09/03/2021</td>\n",
              "      <td>09:00:00</td>\n",
              "      <td>REGULAR</td>\n",
              "      <td>5554</td>\n",
              "      <td>638</td>\n",
              "      <td>2021-09-03 09:00:00</td>\n",
              "    </tr>\n",
              "    <tr>\n",
              "      <th>209732</th>\n",
              "      <td>TRAM2</td>\n",
              "      <td>R469</td>\n",
              "      <td>00-05-01</td>\n",
              "      <td>RIT-ROOSEVELT</td>\n",
              "      <td>R</td>\n",
              "      <td>RIT</td>\n",
              "      <td>09/03/2021</td>\n",
              "      <td>13:00:00</td>\n",
              "      <td>REGULAR</td>\n",
              "      <td>5554</td>\n",
              "      <td>638</td>\n",
              "      <td>2021-09-03 13:00:00</td>\n",
              "    </tr>\n",
              "    <tr>\n",
              "      <th>209733</th>\n",
              "      <td>TRAM2</td>\n",
              "      <td>R469</td>\n",
              "      <td>00-05-01</td>\n",
              "      <td>RIT-ROOSEVELT</td>\n",
              "      <td>R</td>\n",
              "      <td>RIT</td>\n",
              "      <td>09/03/2021</td>\n",
              "      <td>17:00:00</td>\n",
              "      <td>REGULAR</td>\n",
              "      <td>5554</td>\n",
              "      <td>638</td>\n",
              "      <td>2021-09-03 17:00:00</td>\n",
              "    </tr>\n",
              "    <tr>\n",
              "      <th>209734</th>\n",
              "      <td>TRAM2</td>\n",
              "      <td>R469</td>\n",
              "      <td>00-05-01</td>\n",
              "      <td>RIT-ROOSEVELT</td>\n",
              "      <td>R</td>\n",
              "      <td>RIT</td>\n",
              "      <td>09/03/2021</td>\n",
              "      <td>21:00:00</td>\n",
              "      <td>REGULAR</td>\n",
              "      <td>5554</td>\n",
              "      <td>639</td>\n",
              "      <td>2021-09-03 21:00:00</td>\n",
              "    </tr>\n",
              "  </tbody>\n",
              "</table>\n",
              "<p>2749154 rows × 12 columns</p>\n",
              "</div>"
            ],
            "text/plain": [
              "          C/A  UNIT       SCP  ...  ENTRIES    EXITS            DATETIME\n",
              "0        A002  R051  02-00-00  ...  7578734  2590325 2021-05-29 00:00:00\n",
              "1        A002  R051  02-00-00  ...  7578740  2590327 2021-05-29 04:00:00\n",
              "2        A002  R051  02-00-00  ...  7578749  2590340 2021-05-29 08:00:00\n",
              "3        A002  R051  02-00-00  ...  7578789  2590386 2021-05-29 12:00:00\n",
              "4        A002  R051  02-00-00  ...  7578897  2590418 2021-05-29 16:00:00\n",
              "...       ...   ...       ...  ...      ...      ...                 ...\n",
              "209730  TRAM2  R469  00-05-01  ...     5554      638 2021-09-03 05:00:00\n",
              "209731  TRAM2  R469  00-05-01  ...     5554      638 2021-09-03 09:00:00\n",
              "209732  TRAM2  R469  00-05-01  ...     5554      638 2021-09-03 13:00:00\n",
              "209733  TRAM2  R469  00-05-01  ...     5554      638 2021-09-03 17:00:00\n",
              "209734  TRAM2  R469  00-05-01  ...     5554      639 2021-09-03 21:00:00\n",
              "\n",
              "[2749154 rows x 12 columns]"
            ]
          },
          "metadata": {},
          "execution_count": 31
        }
      ]
    },
    {
      "cell_type": "markdown",
      "metadata": {
        "id": "uYlDAVlJbanj"
      },
      "source": [
        "Check the duplicates turnstile for a given datetime"
      ]
    },
    {
      "cell_type": "code",
      "metadata": {
        "colab": {
          "base_uri": "https://localhost:8080/",
          "height": 202
        },
        "id": "c-EJE_jMax0k",
        "outputId": "e0a7556c-cfbf-4483-e42d-ad3835254ba7"
      },
      "source": [
        "(turnstiles_df\n",
        ".groupby(['C/A','UNIT','SCP','STATION','DATETIME'])\n",
        ".ENTRIES.count()\n",
        ".reset_index()\n",
        ".sort_values('ENTRIES', ascending=False)).head()"
      ],
      "execution_count": 37,
      "outputs": [
        {
          "output_type": "execute_result",
          "data": {
            "text/html": [
              "<div>\n",
              "<style scoped>\n",
              "    .dataframe tbody tr th:only-of-type {\n",
              "        vertical-align: middle;\n",
              "    }\n",
              "\n",
              "    .dataframe tbody tr th {\n",
              "        vertical-align: top;\n",
              "    }\n",
              "\n",
              "    .dataframe thead th {\n",
              "        text-align: right;\n",
              "    }\n",
              "</style>\n",
              "<table border=\"1\" class=\"dataframe\">\n",
              "  <thead>\n",
              "    <tr style=\"text-align: right;\">\n",
              "      <th></th>\n",
              "      <th>C/A</th>\n",
              "      <th>UNIT</th>\n",
              "      <th>SCP</th>\n",
              "      <th>STATION</th>\n",
              "      <th>DATETIME</th>\n",
              "      <th>ENTRIES</th>\n",
              "    </tr>\n",
              "  </thead>\n",
              "  <tbody>\n",
              "    <tr>\n",
              "      <th>0</th>\n",
              "      <td>A002</td>\n",
              "      <td>R051</td>\n",
              "      <td>02-00-00</td>\n",
              "      <td>59 ST</td>\n",
              "      <td>2021-05-29 00:00:00</td>\n",
              "      <td>1</td>\n",
              "    </tr>\n",
              "    <tr>\n",
              "      <th>1832762</th>\n",
              "      <td>R134</td>\n",
              "      <td>R272</td>\n",
              "      <td>01-00-03</td>\n",
              "      <td>28 ST</td>\n",
              "      <td>2021-06-04 21:00:00</td>\n",
              "      <td>1</td>\n",
              "    </tr>\n",
              "    <tr>\n",
              "      <th>1832764</th>\n",
              "      <td>R134</td>\n",
              "      <td>R272</td>\n",
              "      <td>01-00-03</td>\n",
              "      <td>28 ST</td>\n",
              "      <td>2021-06-05 13:00:00</td>\n",
              "      <td>1</td>\n",
              "    </tr>\n",
              "    <tr>\n",
              "      <th>1832765</th>\n",
              "      <td>R134</td>\n",
              "      <td>R272</td>\n",
              "      <td>01-00-03</td>\n",
              "      <td>28 ST</td>\n",
              "      <td>2021-06-05 17:00:00</td>\n",
              "      <td>1</td>\n",
              "    </tr>\n",
              "    <tr>\n",
              "      <th>1832766</th>\n",
              "      <td>R134</td>\n",
              "      <td>R272</td>\n",
              "      <td>01-00-03</td>\n",
              "      <td>28 ST</td>\n",
              "      <td>2021-06-05 21:00:00</td>\n",
              "      <td>1</td>\n",
              "    </tr>\n",
              "  </tbody>\n",
              "</table>\n",
              "</div>"
            ],
            "text/plain": [
              "          C/A  UNIT       SCP STATION            DATETIME  ENTRIES\n",
              "0        A002  R051  02-00-00   59 ST 2021-05-29 00:00:00        1\n",
              "1832762  R134  R272  01-00-03   28 ST 2021-06-04 21:00:00        1\n",
              "1832764  R134  R272  01-00-03   28 ST 2021-06-05 13:00:00        1\n",
              "1832765  R134  R272  01-00-03   28 ST 2021-06-05 17:00:00        1\n",
              "1832766  R134  R272  01-00-03   28 ST 2021-06-05 21:00:00        1"
            ]
          },
          "metadata": {},
          "execution_count": 37
        }
      ]
    },
    {
      "cell_type": "code",
      "metadata": {
        "id": "IFm15GHpbAzO"
      },
      "source": [
        "turnstiles_df.sort_values(['C/A', 'UNIT', 'SCP', 'STATION', 'DATETIME'],\n",
        "                      inplace=True, ascending=True)"
      ],
      "execution_count": 38,
      "outputs": []
    },
    {
      "cell_type": "markdown",
      "metadata": {
        "id": "Cpz0BndoYJr9"
      },
      "source": [
        "Create 3 columns:\n",
        "1-previous datetime\n",
        "2-previous entries\n",
        "3-previous exits "
      ]
    },
    {
      "cell_type": "code",
      "metadata": {
        "colab": {
          "base_uri": "https://localhost:8080/"
        },
        "id": "S1QARSlSX9SF",
        "outputId": "100771b9-f76e-47be-da0d-0cd5a94a37fa"
      },
      "source": [
        "turnstiles_df[['PREV_DATETIME', \"PREV_ENTRIES\", \"PREV_EXITS\"]] = (turnstiles_df\n",
        "                                                .groupby(['C/A', 'UNIT', 'SCP', 'STATION'])\\\n",
        "                                                       ['DATETIME','ENTRIES','EXITS']\n",
        "                                                .apply(lambda grp: grp.shift(1)))"
      ],
      "execution_count": 39,
      "outputs": [
        {
          "output_type": "stream",
          "name": "stderr",
          "text": [
            "/usr/local/lib/python3.7/dist-packages/ipykernel_launcher.py:3: FutureWarning: Indexing with multiple keys (implicitly converted to a tuple of keys) will be deprecated, use a list instead.\n",
            "  This is separate from the ipykernel package so we can avoid doing imports until\n"
          ]
        }
      ]
    },
    {
      "cell_type": "markdown",
      "metadata": {
        "id": "6kprqAhQb835"
      },
      "source": [
        "Check null values after create 3 cloumns "
      ]
    },
    {
      "cell_type": "code",
      "metadata": {
        "colab": {
          "base_uri": "https://localhost:8080/"
        },
        "id": "q-yMOIqybxeT",
        "outputId": "5dfd6cd7-9048-4e2f-fce8-ebacf1bbde9d"
      },
      "source": [
        "print(turnstiles_df.isnull().sum())"
      ],
      "execution_count": 40,
      "outputs": [
        {
          "output_type": "stream",
          "name": "stdout",
          "text": [
            "C/A                 0\n",
            "UNIT                0\n",
            "SCP                 0\n",
            "STATION             0\n",
            "LINENAME            0\n",
            "DIVISION            0\n",
            "DATE                0\n",
            "TIME                0\n",
            "DESC                0\n",
            "ENTRIES             0\n",
            "EXITS               0\n",
            "DATETIME            0\n",
            "PREV_DATETIME    5028\n",
            "PREV_ENTRIES     5028\n",
            "PREV_EXITS       5028\n",
            "dtype: int64\n"
          ]
        }
      ]
    },
    {
      "cell_type": "markdown",
      "metadata": {
        "id": "0V9kcgRzcMs3"
      },
      "source": [
        "Drop null values"
      ]
    },
    {
      "cell_type": "code",
      "metadata": {
        "id": "NEqfPT75cHJ2"
      },
      "source": [
        "turnstiles_df.dropna( axis=0, inplace=True)"
      ],
      "execution_count": 41,
      "outputs": []
    },
    {
      "cell_type": "markdown",
      "metadata": {
        "id": "ZmjBrrALcjit"
      },
      "source": [
        "Functions to count the daily entries"
      ]
    },
    {
      "cell_type": "code",
      "metadata": {
        "id": "2PwVOTNSdkIO"
      },
      "source": [
        "def daily_entries(row, max_count):\n",
        "    count = row[\"ENTRIES\"] - row[\"PREV_ENTRIES\"]\n",
        "    if count < 0:\n",
        "        count = -count\n",
        "    if count > max_count:\n",
        "        count = min(row[\"ENTRIES\"], row[\"PREV_ENTRIES\"])\n",
        "    if count > max_count:\n",
        "        return 0\n",
        "    return count"
      ],
      "execution_count": 45,
      "outputs": []
    },
    {
      "cell_type": "markdown",
      "metadata": {
        "id": "9bw2ryEAd_ff"
      },
      "source": [
        "Functions to count the daily exits"
      ]
    },
    {
      "cell_type": "code",
      "metadata": {
        "id": "VRxtjb_UcuT-"
      },
      "source": [
        "def daily_exits(row, max_count):\n",
        "    countx = row[\"EXITS\"] - row[\"PREV_EXITS\"]\n",
        "    if countx < 0:\n",
        "        countx = -countx\n",
        "    if countx > max_count:\n",
        "        countx = min(row[\"EXITS\"], row[\"PREV_EXITS\"])\n",
        "    if countx > max_count:\n",
        "        return 0\n",
        "    return countx"
      ],
      "execution_count": 44,
      "outputs": []
    },
    {
      "cell_type": "markdown",
      "metadata": {
        "id": "jZTWGj4UeiLW"
      },
      "source": [
        "If the count more than 1M, then the counter might have been reset!\n"
      ]
    },
    {
      "cell_type": "code",
      "metadata": {
        "id": "TpJZJRy6fRz_"
      },
      "source": [
        "turnstiles_df[\"TOTAL_ENTRIES\"] = turnstiles_df.apply(daily_entries, axis=1, max_count=100000)\n",
        "turnstiles_df[\"TOTAL_EXITS\"] = turnstiles_df.apply(daily_exits, axis=1, max_count=100000)"
      ],
      "execution_count": 47,
      "outputs": []
    },
    {
      "cell_type": "markdown",
      "metadata": {
        "id": "FFIAUHMbgDKb"
      },
      "source": [
        "Total of entries and exits (Traffic)"
      ]
    },
    {
      "cell_type": "code",
      "metadata": {
        "id": "9ZQuXcBtf6Xg"
      },
      "source": [
        "turnstiles_df[\"TOTAL_TRAFFIC\"] = turnstiles_df[\"TOTAL_EXITS\"] + turnstiles_df[\"TOTAL_ENTRIES\"]"
      ],
      "execution_count": 48,
      "outputs": []
    },
    {
      "cell_type": "code",
      "metadata": {
        "colab": {
          "base_uri": "https://localhost:8080/",
          "height": 767
        },
        "id": "1J4br7GOgKIs",
        "outputId": "92080c9d-7bbb-4be2-c334-6eccb47051f0"
      },
      "source": [
        "turnstiles_df"
      ],
      "execution_count": 49,
      "outputs": [
        {
          "output_type": "execute_result",
          "data": {
            "text/html": [
              "<div>\n",
              "<style scoped>\n",
              "    .dataframe tbody tr th:only-of-type {\n",
              "        vertical-align: middle;\n",
              "    }\n",
              "\n",
              "    .dataframe tbody tr th {\n",
              "        vertical-align: top;\n",
              "    }\n",
              "\n",
              "    .dataframe thead th {\n",
              "        text-align: right;\n",
              "    }\n",
              "</style>\n",
              "<table border=\"1\" class=\"dataframe\">\n",
              "  <thead>\n",
              "    <tr style=\"text-align: right;\">\n",
              "      <th></th>\n",
              "      <th>C/A</th>\n",
              "      <th>UNIT</th>\n",
              "      <th>SCP</th>\n",
              "      <th>STATION</th>\n",
              "      <th>LINENAME</th>\n",
              "      <th>DIVISION</th>\n",
              "      <th>DATE</th>\n",
              "      <th>TIME</th>\n",
              "      <th>DESC</th>\n",
              "      <th>ENTRIES</th>\n",
              "      <th>EXITS</th>\n",
              "      <th>DATETIME</th>\n",
              "      <th>PREV_DATETIME</th>\n",
              "      <th>PREV_ENTRIES</th>\n",
              "      <th>PREV_EXITS</th>\n",
              "      <th>TOTAL_ENTRIES</th>\n",
              "      <th>TOTAL_EXITS</th>\n",
              "      <th>TOTAL_TRAFFIC</th>\n",
              "    </tr>\n",
              "  </thead>\n",
              "  <tbody>\n",
              "    <tr>\n",
              "      <th>1</th>\n",
              "      <td>A002</td>\n",
              "      <td>R051</td>\n",
              "      <td>02-00-00</td>\n",
              "      <td>59 ST</td>\n",
              "      <td>NQR456W</td>\n",
              "      <td>BMT</td>\n",
              "      <td>05/29/2021</td>\n",
              "      <td>04:00:00</td>\n",
              "      <td>REGULAR</td>\n",
              "      <td>7578740</td>\n",
              "      <td>2590327</td>\n",
              "      <td>2021-05-29 04:00:00</td>\n",
              "      <td>2021-05-29 00:00:00</td>\n",
              "      <td>7578734.0</td>\n",
              "      <td>2590325.0</td>\n",
              "      <td>6.0</td>\n",
              "      <td>2.0</td>\n",
              "      <td>8.0</td>\n",
              "    </tr>\n",
              "    <tr>\n",
              "      <th>2</th>\n",
              "      <td>A002</td>\n",
              "      <td>R051</td>\n",
              "      <td>02-00-00</td>\n",
              "      <td>59 ST</td>\n",
              "      <td>NQR456W</td>\n",
              "      <td>BMT</td>\n",
              "      <td>05/29/2021</td>\n",
              "      <td>08:00:00</td>\n",
              "      <td>REGULAR</td>\n",
              "      <td>7578749</td>\n",
              "      <td>2590340</td>\n",
              "      <td>2021-05-29 08:00:00</td>\n",
              "      <td>2021-05-29 04:00:00</td>\n",
              "      <td>7578740.0</td>\n",
              "      <td>2590327.0</td>\n",
              "      <td>9.0</td>\n",
              "      <td>13.0</td>\n",
              "      <td>22.0</td>\n",
              "    </tr>\n",
              "    <tr>\n",
              "      <th>3</th>\n",
              "      <td>A002</td>\n",
              "      <td>R051</td>\n",
              "      <td>02-00-00</td>\n",
              "      <td>59 ST</td>\n",
              "      <td>NQR456W</td>\n",
              "      <td>BMT</td>\n",
              "      <td>05/29/2021</td>\n",
              "      <td>12:00:00</td>\n",
              "      <td>REGULAR</td>\n",
              "      <td>7578789</td>\n",
              "      <td>2590386</td>\n",
              "      <td>2021-05-29 12:00:00</td>\n",
              "      <td>2021-05-29 08:00:00</td>\n",
              "      <td>7578749.0</td>\n",
              "      <td>2590340.0</td>\n",
              "      <td>40.0</td>\n",
              "      <td>46.0</td>\n",
              "      <td>86.0</td>\n",
              "    </tr>\n",
              "    <tr>\n",
              "      <th>4</th>\n",
              "      <td>A002</td>\n",
              "      <td>R051</td>\n",
              "      <td>02-00-00</td>\n",
              "      <td>59 ST</td>\n",
              "      <td>NQR456W</td>\n",
              "      <td>BMT</td>\n",
              "      <td>05/29/2021</td>\n",
              "      <td>16:00:00</td>\n",
              "      <td>REGULAR</td>\n",
              "      <td>7578897</td>\n",
              "      <td>2590418</td>\n",
              "      <td>2021-05-29 16:00:00</td>\n",
              "      <td>2021-05-29 12:00:00</td>\n",
              "      <td>7578789.0</td>\n",
              "      <td>2590386.0</td>\n",
              "      <td>108.0</td>\n",
              "      <td>32.0</td>\n",
              "      <td>140.0</td>\n",
              "    </tr>\n",
              "    <tr>\n",
              "      <th>5</th>\n",
              "      <td>A002</td>\n",
              "      <td>R051</td>\n",
              "      <td>02-00-00</td>\n",
              "      <td>59 ST</td>\n",
              "      <td>NQR456W</td>\n",
              "      <td>BMT</td>\n",
              "      <td>05/29/2021</td>\n",
              "      <td>20:00:00</td>\n",
              "      <td>REGULAR</td>\n",
              "      <td>7579021</td>\n",
              "      <td>2590439</td>\n",
              "      <td>2021-05-29 20:00:00</td>\n",
              "      <td>2021-05-29 16:00:00</td>\n",
              "      <td>7578897.0</td>\n",
              "      <td>2590418.0</td>\n",
              "      <td>124.0</td>\n",
              "      <td>21.0</td>\n",
              "      <td>145.0</td>\n",
              "    </tr>\n",
              "    <tr>\n",
              "      <th>...</th>\n",
              "      <td>...</td>\n",
              "      <td>...</td>\n",
              "      <td>...</td>\n",
              "      <td>...</td>\n",
              "      <td>...</td>\n",
              "      <td>...</td>\n",
              "      <td>...</td>\n",
              "      <td>...</td>\n",
              "      <td>...</td>\n",
              "      <td>...</td>\n",
              "      <td>...</td>\n",
              "      <td>...</td>\n",
              "      <td>...</td>\n",
              "      <td>...</td>\n",
              "      <td>...</td>\n",
              "      <td>...</td>\n",
              "      <td>...</td>\n",
              "      <td>...</td>\n",
              "    </tr>\n",
              "    <tr>\n",
              "      <th>209730</th>\n",
              "      <td>TRAM2</td>\n",
              "      <td>R469</td>\n",
              "      <td>00-05-01</td>\n",
              "      <td>RIT-ROOSEVELT</td>\n",
              "      <td>R</td>\n",
              "      <td>RIT</td>\n",
              "      <td>09/03/2021</td>\n",
              "      <td>05:00:00</td>\n",
              "      <td>REGULAR</td>\n",
              "      <td>5554</td>\n",
              "      <td>638</td>\n",
              "      <td>2021-09-03 05:00:00</td>\n",
              "      <td>2021-09-03 01:00:00</td>\n",
              "      <td>5554.0</td>\n",
              "      <td>638.0</td>\n",
              "      <td>0.0</td>\n",
              "      <td>0.0</td>\n",
              "      <td>0.0</td>\n",
              "    </tr>\n",
              "    <tr>\n",
              "      <th>209731</th>\n",
              "      <td>TRAM2</td>\n",
              "      <td>R469</td>\n",
              "      <td>00-05-01</td>\n",
              "      <td>RIT-ROOSEVELT</td>\n",
              "      <td>R</td>\n",
              "      <td>RIT</td>\n",
              "      <td>09/03/2021</td>\n",
              "      <td>09:00:00</td>\n",
              "      <td>REGULAR</td>\n",
              "      <td>5554</td>\n",
              "      <td>638</td>\n",
              "      <td>2021-09-03 09:00:00</td>\n",
              "      <td>2021-09-03 05:00:00</td>\n",
              "      <td>5554.0</td>\n",
              "      <td>638.0</td>\n",
              "      <td>0.0</td>\n",
              "      <td>0.0</td>\n",
              "      <td>0.0</td>\n",
              "    </tr>\n",
              "    <tr>\n",
              "      <th>209732</th>\n",
              "      <td>TRAM2</td>\n",
              "      <td>R469</td>\n",
              "      <td>00-05-01</td>\n",
              "      <td>RIT-ROOSEVELT</td>\n",
              "      <td>R</td>\n",
              "      <td>RIT</td>\n",
              "      <td>09/03/2021</td>\n",
              "      <td>13:00:00</td>\n",
              "      <td>REGULAR</td>\n",
              "      <td>5554</td>\n",
              "      <td>638</td>\n",
              "      <td>2021-09-03 13:00:00</td>\n",
              "      <td>2021-09-03 09:00:00</td>\n",
              "      <td>5554.0</td>\n",
              "      <td>638.0</td>\n",
              "      <td>0.0</td>\n",
              "      <td>0.0</td>\n",
              "      <td>0.0</td>\n",
              "    </tr>\n",
              "    <tr>\n",
              "      <th>209733</th>\n",
              "      <td>TRAM2</td>\n",
              "      <td>R469</td>\n",
              "      <td>00-05-01</td>\n",
              "      <td>RIT-ROOSEVELT</td>\n",
              "      <td>R</td>\n",
              "      <td>RIT</td>\n",
              "      <td>09/03/2021</td>\n",
              "      <td>17:00:00</td>\n",
              "      <td>REGULAR</td>\n",
              "      <td>5554</td>\n",
              "      <td>638</td>\n",
              "      <td>2021-09-03 17:00:00</td>\n",
              "      <td>2021-09-03 13:00:00</td>\n",
              "      <td>5554.0</td>\n",
              "      <td>638.0</td>\n",
              "      <td>0.0</td>\n",
              "      <td>0.0</td>\n",
              "      <td>0.0</td>\n",
              "    </tr>\n",
              "    <tr>\n",
              "      <th>209734</th>\n",
              "      <td>TRAM2</td>\n",
              "      <td>R469</td>\n",
              "      <td>00-05-01</td>\n",
              "      <td>RIT-ROOSEVELT</td>\n",
              "      <td>R</td>\n",
              "      <td>RIT</td>\n",
              "      <td>09/03/2021</td>\n",
              "      <td>21:00:00</td>\n",
              "      <td>REGULAR</td>\n",
              "      <td>5554</td>\n",
              "      <td>639</td>\n",
              "      <td>2021-09-03 21:00:00</td>\n",
              "      <td>2021-09-03 17:00:00</td>\n",
              "      <td>5554.0</td>\n",
              "      <td>638.0</td>\n",
              "      <td>0.0</td>\n",
              "      <td>1.0</td>\n",
              "      <td>1.0</td>\n",
              "    </tr>\n",
              "  </tbody>\n",
              "</table>\n",
              "<p>2744126 rows × 18 columns</p>\n",
              "</div>"
            ],
            "text/plain": [
              "          C/A  UNIT       SCP  ... TOTAL_ENTRIES TOTAL_EXITS TOTAL_TRAFFIC\n",
              "1        A002  R051  02-00-00  ...           6.0         2.0           8.0\n",
              "2        A002  R051  02-00-00  ...           9.0        13.0          22.0\n",
              "3        A002  R051  02-00-00  ...          40.0        46.0          86.0\n",
              "4        A002  R051  02-00-00  ...         108.0        32.0         140.0\n",
              "5        A002  R051  02-00-00  ...         124.0        21.0         145.0\n",
              "...       ...   ...       ...  ...           ...         ...           ...\n",
              "209730  TRAM2  R469  00-05-01  ...           0.0         0.0           0.0\n",
              "209731  TRAM2  R469  00-05-01  ...           0.0         0.0           0.0\n",
              "209732  TRAM2  R469  00-05-01  ...           0.0         0.0           0.0\n",
              "209733  TRAM2  R469  00-05-01  ...           0.0         0.0           0.0\n",
              "209734  TRAM2  R469  00-05-01  ...           0.0         1.0           1.0\n",
              "\n",
              "[2744126 rows x 18 columns]"
            ]
          },
          "metadata": {},
          "execution_count": 49
        }
      ]
    },
    {
      "cell_type": "markdown",
      "metadata": {
        "id": "hto6YnwKtFgU"
      },
      "source": [
        "# **Top 3 stations are more crowded**"
      ]
    },
    {
      "cell_type": "markdown",
      "metadata": {
        "id": "M6Z9aUzOuo4A"
      },
      "source": [
        "Find station_daily for each station daily and TOTAL TRAFFIC"
      ]
    },
    {
      "cell_type": "code",
      "metadata": {
        "colab": {
          "base_uri": "https://localhost:8080/",
          "height": 202
        },
        "id": "rgE6SFQHum2W",
        "outputId": "f1544222-29b6-43a1-fe34-746092c6f24b"
      },
      "source": [
        "station_daily = turnstiles_df.groupby([\"STATION\",\"DATE\"])[['TOTAL_TRAFFIC']].sum().reset_index()\n",
        "station_daily.head()"
      ],
      "execution_count": 50,
      "outputs": [
        {
          "output_type": "execute_result",
          "data": {
            "text/html": [
              "<div>\n",
              "<style scoped>\n",
              "    .dataframe tbody tr th:only-of-type {\n",
              "        vertical-align: middle;\n",
              "    }\n",
              "\n",
              "    .dataframe tbody tr th {\n",
              "        vertical-align: top;\n",
              "    }\n",
              "\n",
              "    .dataframe thead th {\n",
              "        text-align: right;\n",
              "    }\n",
              "</style>\n",
              "<table border=\"1\" class=\"dataframe\">\n",
              "  <thead>\n",
              "    <tr style=\"text-align: right;\">\n",
              "      <th></th>\n",
              "      <th>STATION</th>\n",
              "      <th>DATE</th>\n",
              "      <th>TOTAL_TRAFFIC</th>\n",
              "    </tr>\n",
              "  </thead>\n",
              "  <tbody>\n",
              "    <tr>\n",
              "      <th>0</th>\n",
              "      <td>1 AV</td>\n",
              "      <td>05/29/2021</td>\n",
              "      <td>11578.0</td>\n",
              "    </tr>\n",
              "    <tr>\n",
              "      <th>1</th>\n",
              "      <td>1 AV</td>\n",
              "      <td>05/30/2021</td>\n",
              "      <td>13397.0</td>\n",
              "    </tr>\n",
              "    <tr>\n",
              "      <th>2</th>\n",
              "      <td>1 AV</td>\n",
              "      <td>05/31/2021</td>\n",
              "      <td>12571.0</td>\n",
              "    </tr>\n",
              "    <tr>\n",
              "      <th>3</th>\n",
              "      <td>1 AV</td>\n",
              "      <td>06/01/2021</td>\n",
              "      <td>19325.0</td>\n",
              "    </tr>\n",
              "    <tr>\n",
              "      <th>4</th>\n",
              "      <td>1 AV</td>\n",
              "      <td>06/02/2021</td>\n",
              "      <td>22386.0</td>\n",
              "    </tr>\n",
              "  </tbody>\n",
              "</table>\n",
              "</div>"
            ],
            "text/plain": [
              "  STATION        DATE  TOTAL_TRAFFIC\n",
              "0    1 AV  05/29/2021        11578.0\n",
              "1    1 AV  05/30/2021        13397.0\n",
              "2    1 AV  05/31/2021        12571.0\n",
              "3    1 AV  06/01/2021        19325.0\n",
              "4    1 AV  06/02/2021        22386.0"
            ]
          },
          "metadata": {},
          "execution_count": 50
        }
      ]
    },
    {
      "cell_type": "markdown",
      "metadata": {
        "id": "H3t9oCCWu_th"
      },
      "source": [
        "Find the sum TOTAL TRAFFIC for each station"
      ]
    },
    {
      "cell_type": "code",
      "metadata": {
        "colab": {
          "base_uri": "https://localhost:8080/",
          "height": 386
        },
        "id": "5jrGrcoBvAps",
        "outputId": "bea62c38-664a-4d7f-f74b-ffbc53e13f90"
      },
      "source": [
        "stations_total = station_daily.groupby('STATION').sum()\\\n",
        "    .sort_values('TOTAL_TRAFFIC', ascending=False)\\\n",
        "    .reset_index()\n",
        "\n",
        "stations_total.head(11)"
      ],
      "execution_count": 51,
      "outputs": [
        {
          "output_type": "execute_result",
          "data": {
            "text/html": [
              "<div>\n",
              "<style scoped>\n",
              "    .dataframe tbody tr th:only-of-type {\n",
              "        vertical-align: middle;\n",
              "    }\n",
              "\n",
              "    .dataframe tbody tr th {\n",
              "        vertical-align: top;\n",
              "    }\n",
              "\n",
              "    .dataframe thead th {\n",
              "        text-align: right;\n",
              "    }\n",
              "</style>\n",
              "<table border=\"1\" class=\"dataframe\">\n",
              "  <thead>\n",
              "    <tr style=\"text-align: right;\">\n",
              "      <th></th>\n",
              "      <th>STATION</th>\n",
              "      <th>TOTAL_TRAFFIC</th>\n",
              "    </tr>\n",
              "  </thead>\n",
              "  <tbody>\n",
              "    <tr>\n",
              "      <th>0</th>\n",
              "      <td>34 ST-PENN STA</td>\n",
              "      <td>9963486.0</td>\n",
              "    </tr>\n",
              "    <tr>\n",
              "      <th>1</th>\n",
              "      <td>34 ST-HERALD SQ</td>\n",
              "      <td>7669095.0</td>\n",
              "    </tr>\n",
              "    <tr>\n",
              "      <th>2</th>\n",
              "      <td>GRD CNTRL-42 ST</td>\n",
              "      <td>7495832.0</td>\n",
              "    </tr>\n",
              "    <tr>\n",
              "      <th>3</th>\n",
              "      <td>86 ST</td>\n",
              "      <td>6612764.0</td>\n",
              "    </tr>\n",
              "    <tr>\n",
              "      <th>4</th>\n",
              "      <td>42 ST-PORT AUTH</td>\n",
              "      <td>6469142.0</td>\n",
              "    </tr>\n",
              "    <tr>\n",
              "      <th>5</th>\n",
              "      <td>14 ST-UNION SQ</td>\n",
              "      <td>6421036.0</td>\n",
              "    </tr>\n",
              "    <tr>\n",
              "      <th>6</th>\n",
              "      <td>23 ST</td>\n",
              "      <td>6011473.0</td>\n",
              "    </tr>\n",
              "    <tr>\n",
              "      <th>7</th>\n",
              "      <td>125 ST</td>\n",
              "      <td>5872244.0</td>\n",
              "    </tr>\n",
              "    <tr>\n",
              "      <th>8</th>\n",
              "      <td>TIMES SQ-42 ST</td>\n",
              "      <td>5655788.0</td>\n",
              "    </tr>\n",
              "    <tr>\n",
              "      <th>9</th>\n",
              "      <td>FULTON ST</td>\n",
              "      <td>5171987.0</td>\n",
              "    </tr>\n",
              "    <tr>\n",
              "      <th>10</th>\n",
              "      <td>JOURNAL SQUARE</td>\n",
              "      <td>4977202.0</td>\n",
              "    </tr>\n",
              "  </tbody>\n",
              "</table>\n",
              "</div>"
            ],
            "text/plain": [
              "            STATION  TOTAL_TRAFFIC\n",
              "0    34 ST-PENN STA      9963486.0\n",
              "1   34 ST-HERALD SQ      7669095.0\n",
              "2   GRD CNTRL-42 ST      7495832.0\n",
              "3             86 ST      6612764.0\n",
              "4   42 ST-PORT AUTH      6469142.0\n",
              "5    14 ST-UNION SQ      6421036.0\n",
              "6             23 ST      6011473.0\n",
              "7            125 ST      5872244.0\n",
              "8    TIMES SQ-42 ST      5655788.0\n",
              "9         FULTON ST      5171987.0\n",
              "10   JOURNAL SQUARE      4977202.0"
            ]
          },
          "metadata": {},
          "execution_count": 51
        }
      ]
    },
    {
      "cell_type": "markdown",
      "metadata": {
        "id": "Ug8-TqLrtZBu"
      },
      "source": [
        "Using the mean to find the top three stations "
      ]
    },
    {
      "cell_type": "code",
      "metadata": {
        "id": "TQ7Sjvg1zzB-"
      },
      "source": [
        "station_avg = station_daily.groupby('STATION').mean().round(0)\\\n",
        "    .sort_values('TOTAL_TRAFFIC', ascending=False)\\\n",
        "    .reset_index()"
      ],
      "execution_count": 52,
      "outputs": []
    },
    {
      "cell_type": "code",
      "metadata": {
        "colab": {
          "base_uri": "https://localhost:8080/",
          "height": 430
        },
        "id": "3tkzEVxGz9BV",
        "outputId": "97d98ccf-5bdb-4d47-9747-8482b8cfcb9e"
      },
      "source": [
        "top_five_stations_avg_daily = station_avg[:3]\n",
        "plt.figure(figsize=[8,5])\n",
        "palette = sns.color_palette(\"Blues_r\",n_colors=3)\n",
        "\n",
        "ax = sns.barplot('STATION', 'TOTAL_TRAFFIC', data=top_five_stations_avg_daily, palette=palette)\n",
        "\n",
        "plt.title('Top 3 stations are more crowded', size=20, weight='bold')\n",
        "plt.xlabel(\"Stations\", size=15)\n",
        "plt.ylabel(\" Average Traffic\", size=15)\n",
        "\n"
      ],
      "execution_count": 77,
      "outputs": [
        {
          "output_type": "stream",
          "name": "stderr",
          "text": [
            "/usr/local/lib/python3.7/dist-packages/seaborn/_decorators.py:43: FutureWarning: Pass the following variables as keyword args: x, y. From version 0.12, the only valid positional argument will be `data`, and passing other arguments without an explicit keyword will result in an error or misinterpretation.\n",
            "  FutureWarning\n"
          ]
        },
        {
          "output_type": "execute_result",
          "data": {
            "text/plain": [
              "Text(0, 0.5, ' Average Traffic')"
            ]
          },
          "metadata": {},
          "execution_count": 77
        },
        {
          "output_type": "display_data",
          "data": {
            "image/png": "[encoded data removed]",
            "text/plain": [
              "<Figure size 576x360 with 1 Axes>"
            ]
          },
          "metadata": {
            "needs_background": "light"
          }
        }
      ]
    },
    {
      "cell_type": "code",
      "metadata": {
        "id": "FKeKkoxCzMYd"
      },
      "source": [
        ""
      ],
      "execution_count": null,
      "outputs": []
    }
  ]
}